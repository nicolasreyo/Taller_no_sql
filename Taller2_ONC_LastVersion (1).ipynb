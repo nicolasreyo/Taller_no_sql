{
 "cells": [
  {
   "cell_type": "markdown",
   "id": "512a4a77-714f-4119-895a-735d5420e18b",
   "metadata": {},
   "source": [
    "# Gestión de Datos\n",
    "\n",
    "Taller 2 \n",
    "Univerisdad Javeriana  \n",
    "September, 2022  \n",
    "  \n",
    "Datasets:   \n",
    "\n",
    "1. Mflix - Movies"
   ]
  },
  {
   "cell_type": "code",
   "execution_count": null,
   "id": "0fb12440-439c-41c4-8f3a-9485398d3f2f",
   "metadata": {
    "tags": []
   },
   "outputs": [],
   "source": [
    "#!pip install --upgrade google-cloud-bigquery"
   ]
  },
  {
   "cell_type": "code",
   "execution_count": null,
   "id": "0e297ecf-b0a4-490f-ada0-2da918e0fa02",
   "metadata": {
    "tags": []
   },
   "outputs": [],
   "source": [
    "#!pip install pandas-gbq"
   ]
  },
  {
   "cell_type": "code",
   "execution_count": null,
   "id": "87266642-7d4f-453d-a0b3-6a73c1f58d07",
   "metadata": {
    "tags": []
   },
   "outputs": [],
   "source": [
    "#!pip install db-dtypes"
   ]
  },
  {
   "cell_type": "code",
   "execution_count": 1,
   "id": "d3b7d956-6d72-48e4-976a-7c7608ba6bdf",
   "metadata": {},
   "outputs": [],
   "source": [
    "import pymongo\n",
    "\n",
    "import pandas as pd\n",
    "import matplotlib.pyplot as plt\n",
    "import numpy as np\n",
    "from datetime import datetime\n",
    "import seaborn as sns\n",
    "\n",
    "from google.cloud import bigquery\n",
    "from google.oauth2 import service_account"
   ]
  },
  {
   "cell_type": "markdown",
   "id": "3c7a859d-3c8a-4393-b259-368153eaa40c",
   "metadata": {},
   "source": [
    "### Extracting data"
   ]
  },
  {
   "cell_type": "code",
   "execution_count": 2,
   "id": "1dc802ee-14c5-41c0-88d7-6751cdbdf766",
   "metadata": {},
   "outputs": [],
   "source": [
    "DB_NAME = \"sample_mflix\"\n",
    "COLLECTION = \"movies\""
   ]
  },
  {
   "cell_type": "code",
   "execution_count": 4,
   "id": "e86acebf-63e9-4588-adf2-666cadc14d41",
   "metadata": {},
   "outputs": [],
   "source": [
    "#Conexión a la base de datos de MongoDB\n",
    "client = pymongo.MongoClient(\"mongodb+srv://user:<password>@cluster0.cawvcom.mongodb.net/?retryWrites=true&w=majority\", server_api = pymongo.server_api.ServerApi('1'))"
   ]
  },
  {
   "cell_type": "code",
   "execution_count": 5,
   "id": "6e26d597-275a-49f9-be5c-b6b6e025dff4",
   "metadata": {},
   "outputs": [],
   "source": [
    "db = client[DB_NAME]"
   ]
  },
  {
   "cell_type": "code",
   "execution_count": 6,
   "id": "c8d3a82c-cd89-44b7-a64d-71e9577f8418",
   "metadata": {},
   "outputs": [],
   "source": [
    "col = db[COLLECTION]"
   ]
  },
  {
   "cell_type": "code",
   "execution_count": 7,
   "id": "cf7b6b8a",
   "metadata": {
    "collapsed": true
   },
   "outputs": [
    {
     "data": {
      "text/plain": [
       "{'_id': ObjectId('573a1390f29313caabcd4135'),\n",
       " 'plot': 'Three men hammer on an anvil and pass a bottle of beer around.',\n",
       " 'genres': ['Short'],\n",
       " 'runtime': 1,\n",
       " 'cast': ['Charles Kayser', 'John Ott'],\n",
       " 'num_mflix_comments': 0,\n",
       " 'title': 'Blacksmith Scene',\n",
       " 'fullplot': 'A stationary camera looks at a large anvil with a blacksmith behind it and one on either side. The smith in the middle draws a heated metal rod from the fire, places it on the anvil, and all three begin a rhythmic hammering. After several blows, the metal goes back in the fire. One smith pulls out a bottle of beer, and they each take a swig. Then, out comes the glowing metal and the hammering resumes.',\n",
       " 'countries': ['USA'],\n",
       " 'released': datetime.datetime(1893, 5, 9, 0, 0),\n",
       " 'directors': ['William K.L. Dickson'],\n",
       " 'rated': 'UNRATED',\n",
       " 'awards': {'wins': 1, 'nominations': 0, 'text': '1 win.'},\n",
       " 'lastupdated': '2015-08-26 00:03:50.133000000',\n",
       " 'year': 1893,\n",
       " 'imdb': {'rating': 6.2, 'votes': 1189, 'id': 5},\n",
       " 'type': 'movie',\n",
       " 'tomatoes': {'viewer': {'rating': 3.0, 'numReviews': 184, 'meter': 32},\n",
       "  'lastUpdated': datetime.datetime(2015, 6, 28, 18, 34, 9)}}"
      ]
     },
     "execution_count": 7,
     "metadata": {},
     "output_type": "execute_result"
    }
   ],
   "source": [
    "col.find_one({})"
   ]
  },
  {
   "cell_type": "code",
   "execution_count": 8,
   "id": "00c39014",
   "metadata": {
    "collapsed": true
   },
   "outputs": [
    {
     "data": {
      "text/plain": [
       "['!Women Art Revolution',\n",
       " '#chicagoGirl: The Social Network Takes on a Dictator',\n",
       " '$',\n",
       " '$9.99',\n",
       " '$ellebrity',\n",
       " \"'71\",\n",
       " \"'Doc'\",\n",
       " \"'Master Harold'... and the Boys\",\n",
       " \"'Pimpernel' Smith\",\n",
       " \"'R Xmas\",\n",
       " \"'Round Midnight\",\n",
       " \"'Til Madness Do Us Part\",\n",
       " \"'Twas the Night\",\n",
       " \"'night, Mother\",\n",
       " '(500) Days of Summer',\n",
       " '(T)ERROR',\n",
       " '(Untitled)',\n",
       " '*batteries not included',\n",
       " '...All the Marbles',\n",
       " '...And God Created Woman',\n",
       " '...And Justice for All.',\n",
       " '009 Re: Cyborg',\n",
       " '06/05',\n",
       " '1',\n",
       " '1, 2, 3, Freeze',\n",
       " '1,000 Times Good Night',\n",
       " '1-900',\n",
       " '1. Mai',\n",
       " '10',\n",
       " '10 Cent Pistol',\n",
       " '10 Items or Less',\n",
       " '10 MPH',\n",
       " '10 Minutes',\n",
       " '10 Mountains 10 Years',\n",
       " '10 Questions for the Dalai Lama',\n",
       " '10 Things I Hate About You',\n",
       " '10%: What Makes a Hero?',\n",
       " '10,000 Black Men Named George',\n",
       " '10.000 Km',\n",
       " '10.5',\n",
       " '10.5: Apocalypse',\n",
       " '100 Bloody Acres',\n",
       " '100 Girls',\n",
       " '100% Love',\n",
       " '1001 Grams',\n",
       " '101 Dalmatians',\n",
       " \"101 Dalmatians II: Patch's London Adventure\",\n",
       " '101 Reykjavèk',\n",
       " '102 Dalmatians',\n",
       " '102 Minutes That Changed America',\n",
       " '1066: The Battle for Middle Earth',\n",
       " '11 Flowers',\n",
       " '11 Minutes',\n",
       " '11 Minutes Ago',\n",
       " '11.6',\n",
       " '11:11',\n",
       " '11:14',\n",
       " '12',\n",
       " '12 Angry Men',\n",
       " '12 Dates of Christmas',\n",
       " \"12 O'Clock Boys\",\n",
       " '12 Storeys',\n",
       " '12 Years a Slave',\n",
       " '12 and Holding',\n",
       " '12 in a Box',\n",
       " '127 Hours',\n",
       " '12:01',\n",
       " '12:08 East of Bucharest',\n",
       " '12th & Delaware',\n",
       " '13',\n",
       " '13 Assassins',\n",
       " '13 Going on 30',\n",
       " '13 Hours in a Warehouse',\n",
       " '13 Lakes',\n",
       " '13 Minutes',\n",
       " '13 Sins',\n",
       " '13 Tzameti',\n",
       " '13/13/13',\n",
       " '13: Game of Death',\n",
       " '14 Blades',\n",
       " '1408',\n",
       " '1492: Conquest of Paradise',\n",
       " '15',\n",
       " '15 Minutes',\n",
       " '15 Years and One Day',\n",
       " '15: The Movie',\n",
       " '16 Acres',\n",
       " '16 Blocks',\n",
       " '16 Wishes',\n",
       " '16 Years of Alcohol',\n",
       " '16 to Life',\n",
       " '1612: Khroniki smutnogo vremeni',\n",
       " '17 Again',\n",
       " '17 Girls',\n",
       " '1776',\n",
       " '18 Meals',\n",
       " '18 Years Later',\n",
       " '18 Years Old and Rising',\n",
       " '186 Dollars to Freedom',\n",
       " '1900',\n",
       " '1911',\n",
       " '1942: A Love Story',\n",
       " '1968 Tunnel Rats',\n",
       " '1969',\n",
       " '1971',\n",
       " '1981',\n",
       " '1987',\n",
       " '1989',\n",
       " '2 + 2',\n",
       " '2 Autumns, 3 Winters',\n",
       " '2 Become 1',\n",
       " '2 Days in New York',\n",
       " '2 Days in Paris',\n",
       " '2 Days in the Valley',\n",
       " '2 Fast 2 Furious',\n",
       " '2 Filhos de Francisco: A Histèria de Zezè di Camargo & Luciano',\n",
       " '2 Friends',\n",
       " '2 Guns',\n",
       " '2 States',\n",
       " '2 Young',\n",
       " '20 Dates',\n",
       " '20 Ft Below: The Darkness Descending',\n",
       " '20 Years After',\n",
       " '20,000 Days on Earth',\n",
       " '20,000 Leagues Under the Sea',\n",
       " '200 Pounds Beauty',\n",
       " '2000 AD',\n",
       " '2001 Maniacs',\n",
       " '2001: A Space Odyssey',\n",
       " '2009 Loseuteu maemorijeu',\n",
       " '2010',\n",
       " '2012',\n",
       " '2012: Time for Change',\n",
       " \"2016: Obama's America\",\n",
       " '2046',\n",
       " '2061: Un anno eccezionale',\n",
       " '20th Century Boys 2: The Last Hope',\n",
       " '20th Century Boys 3: Redemption',\n",
       " '20th Century Oz',\n",
       " '21',\n",
       " '21 & Over',\n",
       " '21 Days',\n",
       " '21 Grams',\n",
       " '21 Hours at Munich',\n",
       " '21 Jump Street',\n",
       " '21 Up',\n",
       " '21 Ways to Ruin a Marriage',\n",
       " '21 Years: Richard Linklater',\n",
       " '2103: The Deadly Wake',\n",
       " '22 Jump Street',\n",
       " '23',\n",
       " '23 Blast',\n",
       " '24',\n",
       " '24 7: Twenty Four Seven',\n",
       " '24 City',\n",
       " '24 Days',\n",
       " '24 Hour Party People',\n",
       " '25 Carat',\n",
       " '25 Watts',\n",
       " '25th Hour',\n",
       " '26 Years',\n",
       " '27 Dresses',\n",
       " '27 Missing Kisses',\n",
       " '28 Days',\n",
       " '28 Days Later...',\n",
       " '28 Up',\n",
       " '28 Weeks Later',\n",
       " '2:22',\n",
       " '2:37',\n",
       " '2LDK',\n",
       " '3',\n",
       " '3 1/2 Minutes, Ten Bullets',\n",
       " '3 A.M.',\n",
       " '3 AM: A Paranormal Experience',\n",
       " '3 Backyards',\n",
       " '3 Extremes II',\n",
       " '3 Hearts',\n",
       " '3 Idiots',\n",
       " '3 Men and a Baby',\n",
       " '3 Men and a Little Lady',\n",
       " '3 Needles',\n",
       " '3 Ninjas',\n",
       " '3 Ninjas Kick Back',\n",
       " '3 Ninjas Knuckle Up',\n",
       " '3 Ninjas: High Noon at Mega Mountain',\n",
       " '3 Women',\n",
       " '3 hommes et un couffin',\n",
       " '3, 2, 1... Frankie Go Boom',\n",
       " '3-Iron',\n",
       " '30 Days of Night',\n",
       " '30 Days of Night: Dark Days',\n",
       " '30 Minutes or Less',\n",
       " '30 Years to Life',\n",
       " '300',\n",
       " '300 Miles to Heaven',\n",
       " '3000 Miles to Graceland',\n",
       " '300: Rise of an Empire',\n",
       " '3096 Days',\n",
       " '32A',\n",
       " '33 Postcards',\n",
       " '33 Scenes from Life',\n",
       " '35 Shots of Rum',\n",
       " '35 Up',\n",
       " '36',\n",
       " '36 China Town',\n",
       " '36 fillette',\n",
       " '360',\n",
       " '36th Precinct',\n",
       " '3: The Dale Earnhardt Story',\n",
       " '3:10 to Yuma',\n",
       " '3faltig',\n",
       " '3rd World Hero',\n",
       " '3x3',\n",
       " '3è kèlter',\n",
       " '4',\n",
       " '4 Elements',\n",
       " '4 Little Girls',\n",
       " '4 Minutes',\n",
       " '4 Months, 3 Weeks and 2 Days',\n",
       " '4 for Texas',\n",
       " '40 Carats',\n",
       " '40 Days and 40 Nights',\n",
       " '40 Pounds of Trouble',\n",
       " '42 Up',\n",
       " '42nd Street',\n",
       " '44 Inch Chest',\n",
       " '44 Minutes: The North Hollywood Shoot-Out',\n",
       " '45 Years',\n",
       " '45365',\n",
       " '47 Ronin',\n",
       " '48 Hrs.',\n",
       " '48 Shades',\n",
       " '49 Up',\n",
       " '49th Parallel',\n",
       " '4:44 Last Day on Earth',\n",
       " '4bia',\n",
       " '5 Centimeters Per Second',\n",
       " '5 Fingers',\n",
       " '5 to 7',\n",
       " '50 First Dates',\n",
       " '50/50',\n",
       " '51 Birch Street',\n",
       " '5150 Rue des Ormes',\n",
       " '52 Pick-Up',\n",
       " '52 Tuesdays',\n",
       " '54',\n",
       " '54 Days',\n",
       " '55 Days at Peking',\n",
       " '56 Up',\n",
       " '5ive Days to Midnight',\n",
       " '5x2',\n",
       " '6 Month Rule',\n",
       " '6 Years',\n",
       " '600 Millas',\n",
       " '61*',\n",
       " '6ixtynin9',\n",
       " '7 Aum Arivu',\n",
       " '7 Boxes',\n",
       " '7 Chinese Brothers',\n",
       " '7 Days',\n",
       " '7 Days in Havana',\n",
       " '7 Days in September',\n",
       " '7 Dwarves: The Forest Is Not Enough',\n",
       " '7 Faces of Dr. Lao',\n",
       " '7 Khoon Maaf',\n",
       " '7 Plus Seven',\n",
       " '7 Virgins',\n",
       " '7 Years',\n",
       " '7/G Rainbow Colony',\n",
       " '700 Sundays',\n",
       " '71 Fragments of a Chronology of Chance',\n",
       " '71: Into the Fire',\n",
       " '72 Meters',\n",
       " '72 days',\n",
       " '72 ga cho hak',\n",
       " '7:35 in the Morning',\n",
       " '7th Floor',\n",
       " '7th Heaven',\n",
       " '8',\n",
       " '8 Dates',\n",
       " '8 Heads in a Duffel Bag',\n",
       " '8 Mile',\n",
       " '8 Million Ways to Die',\n",
       " '8 Women',\n",
       " '8 x 10 Tasveer',\n",
       " '8 è Women',\n",
       " '8-Ball',\n",
       " '80 Millions',\n",
       " '800 Bullets',\n",
       " '84 Charing Cross Road',\n",
       " '84C MoPic',\n",
       " '88 Minutes',\n",
       " '8: The Mormon Proposition',\n",
       " '8:46',\n",
       " '8MM',\n",
       " '8th Wonderland',\n",
       " '8è',\n",
       " '9',\n",
       " '9 Dead Gay Guys',\n",
       " '9 Songs',\n",
       " '9 Souls',\n",
       " '9 Star Hotel',\n",
       " '9-Man',\n",
       " '9-Month Stretch',\n",
       " '9/11',\n",
       " '9/11: The Falling Man',\n",
       " '90 Minutes',\n",
       " '9500 Liberty',\n",
       " '95ers: Echoes',\n",
       " '96 Minutes',\n",
       " '977',\n",
       " '99 Homes',\n",
       " '99 francs',\n",
       " '9th Company',\n",
       " 'A Alma do Osso',\n",
       " 'A Bag of Hammers',\n",
       " 'A Band Called Death',\n",
       " 'A Barefoot Dream',\n",
       " 'A Bay of Blood',\n",
       " 'A Beautiful Mind',\n",
       " \"A Beginner's Guide to Endings\",\n",
       " 'A Better Life',\n",
       " 'A Better Place',\n",
       " 'A Better Tomorrow',\n",
       " 'A Better Tomorrow II',\n",
       " 'A Better Tomorrow III: Love and Death in Saigon',\n",
       " 'A Big Hand for the Little Lady',\n",
       " 'A Big Love Story',\n",
       " 'A Bigger Splash',\n",
       " \"A Birder's Guide to Everything\",\n",
       " 'A Bit of Bad Luck',\n",
       " 'A Bittersweet Life',\n",
       " 'A Blast',\n",
       " 'A Borrowed Identity',\n",
       " 'A Borrowed Life',\n",
       " 'A Bottle in the Gaza Sea',\n",
       " 'A Boy Called Hate',\n",
       " 'A Boy Named Charlie Brown',\n",
       " 'A Boy and His Dog',\n",
       " 'A Boy from Calabria',\n",
       " 'A Boyfriend for My Wife',\n",
       " 'A Brand New Life',\n",
       " 'A Brave Heart: The Lizzie Velasquez Story',\n",
       " 'A Bridge Too Far',\n",
       " 'A Brief History of Time',\n",
       " 'A Brief Vacation',\n",
       " 'A Bright Shining Lie',\n",
       " 'A Brighter Summer Day',\n",
       " 'A Brilliant Young Mind',\n",
       " 'A Bronx Tale',\n",
       " 'A Brony Tale',\n",
       " 'A Brooklyn State of Mind',\n",
       " 'A Buddha',\n",
       " \"A Bug's Life\",\n",
       " 'A Burning Hot Summer',\n",
       " 'A Cab for Three',\n",
       " 'A Call Girl',\n",
       " 'A Castle in Italy',\n",
       " 'A Cat in Paris',\n",
       " 'A Certain Kind of Death',\n",
       " 'A Chairy Tale',\n",
       " 'A Charlie Brown Christmas',\n",
       " 'A Chef in Love',\n",
       " 'A Child in the Crowd',\n",
       " \"A Child's Christmas in Wales\",\n",
       " 'A Chinese Ghost Story',\n",
       " 'A Chinese in a Coma',\n",
       " 'A Chorus Line',\n",
       " 'A Christmas Carol',\n",
       " 'A Christmas Carol: The Musical',\n",
       " 'A Christmas Memory',\n",
       " 'A Christmas Story',\n",
       " 'A Christmas Story 2',\n",
       " 'A Christmas Tale',\n",
       " 'A Christmas Wedding Tail',\n",
       " 'A Christmas Wish',\n",
       " 'A Cinderella Story',\n",
       " 'A City of Sadness',\n",
       " 'A Civil Action',\n",
       " 'A Clockwork Orange',\n",
       " 'A Close Shave',\n",
       " 'A Coffee in Berlin',\n",
       " 'A Colbert Christmas: The Greatest Gift of All!',\n",
       " 'A Colder Kind of Death',\n",
       " 'A Common Man',\n",
       " 'A Common Thread',\n",
       " 'A Complete History of My Sexual Failures',\n",
       " 'A Complicated Girl',\n",
       " 'A Confucian Confusion',\n",
       " 'A Corner in Wheat',\n",
       " 'A Couch in New York',\n",
       " 'A Countess from Hong Kong',\n",
       " 'A Country Called Home',\n",
       " 'A Cross the Universe',\n",
       " 'A Crush on You',\n",
       " 'A Cry in the Dark',\n",
       " 'A Cry in the Wild',\n",
       " 'A Cube of Sugar',\n",
       " 'A Damsel in Distress',\n",
       " 'A Dangerous Game',\n",
       " 'A Dangerous Method',\n",
       " 'A Dangerous Place',\n",
       " 'A Dangerous Woman',\n",
       " 'A Dark Truth',\n",
       " 'A Day Without a Mexican',\n",
       " 'A Day in the Country',\n",
       " 'A Day in the Death of Joe Egg',\n",
       " 'A Deal Is a Deal',\n",
       " 'A Decade Under the Influence',\n",
       " 'A Demon in My View',\n",
       " 'A Dennis the Menace Christmas',\n",
       " 'A Difficult Life',\n",
       " 'A Dirty Carnival',\n",
       " 'A Dirty Shame',\n",
       " 'A Dog of Flanders',\n",
       " \"A Dog's Breakfast\",\n",
       " \"A Dog's Will\",\n",
       " 'A Double Life',\n",
       " 'A Dream of Kings',\n",
       " 'A Driver for Vera',\n",
       " 'A Dry White Season',\n",
       " 'A Estrada 47',\n",
       " 'A Face in the Crowd',\n",
       " 'A Fairly Odd Movie: Grow Up, Timmy Turner!',\n",
       " 'A Family',\n",
       " 'A Family Thing',\n",
       " 'A Fantastic Fear of Everything',\n",
       " 'A Farewell to Arms',\n",
       " 'A Few Best Men',\n",
       " 'A Few Good Men',\n",
       " 'A Field in England',\n",
       " 'A Fierce Green Fire',\n",
       " 'A Fighting Man',\n",
       " 'A Film Unfinished',\n",
       " 'A Film with Me in It',\n",
       " 'A Fish Called Wanda',\n",
       " 'A Fish Tale',\n",
       " 'A Fistful of Dollars',\n",
       " 'A Five Star Life',\n",
       " 'A Flat for Three',\n",
       " 'A Fool',\n",
       " 'A Foreign Affair',\n",
       " 'A Fragile Trust: Plagiarism, Power, and Jayson Blair at the New York Times',\n",
       " 'A Free Soul',\n",
       " 'A French Gigolo',\n",
       " 'A Friend of Mine',\n",
       " 'A Friend of the Deceased',\n",
       " 'A Frozen Flower',\n",
       " 'A Fugitive from the Past',\n",
       " 'A Fuller Life',\n",
       " 'A Funny Man',\n",
       " 'A Funny Thing Happened on the Way to the Forum',\n",
       " 'A Gang Story',\n",
       " 'A Genius, Two Friends, and an Idiot',\n",
       " 'A Gentle Breeze in the Village',\n",
       " 'A Gentle Spirit',\n",
       " 'A Gentle Woman',\n",
       " \"A Gentleman's Game\",\n",
       " 'A Girl Walks Home Alone at Night',\n",
       " 'A Girl at My Door',\n",
       " 'A Girl in Australia',\n",
       " 'A Glimpse Inside the Mind of Charles Swan III',\n",
       " 'A Good Boy',\n",
       " 'A Good Day to Die Hard',\n",
       " \"A Good Lawyer's Wife\",\n",
       " 'A Good Marriage',\n",
       " 'A Good Year',\n",
       " 'A Goofy Movie',\n",
       " 'A Grand Day Out',\n",
       " 'A Grande Famèlia: O Filme',\n",
       " 'A Great Day in Harlem',\n",
       " 'A Guide for the Married Man',\n",
       " 'A Guide to Recognizing Your Saints',\n",
       " 'A Gun for Jennifer',\n",
       " 'A Gun in Each Hand',\n",
       " 'A Handful of Dust',\n",
       " 'A Hard Day',\n",
       " \"A Hard Day's Night\",\n",
       " 'A Hatful of Rain',\n",
       " 'A Haunted House',\n",
       " 'A Heartbeat Away',\n",
       " 'A Heartland Christmas',\n",
       " 'A Hell of a Day',\n",
       " 'A Hen in the Wind',\n",
       " 'A Hijacking',\n",
       " 'A History of Violence',\n",
       " 'A Histèria Da Eternidade',\n",
       " 'A Hole in My Heart',\n",
       " 'A Hole in the Head',\n",
       " 'A Home at the End of the World',\n",
       " 'A Home of Our Own',\n",
       " 'A Horrible Way to Die',\n",
       " 'A Horse for Summer',\n",
       " 'A House Built on Water',\n",
       " 'A Housekeeper',\n",
       " 'A Huey P. Newton Story',\n",
       " 'A Hungarian Fairy Tale',\n",
       " 'A Is for Autism',\n",
       " \"A Jester's Tale\",\n",
       " 'A Kid for Two Farthings',\n",
       " \"A Kid in King Arthur's Court\",\n",
       " 'A Killer Among Us',\n",
       " 'A Kind of Loving',\n",
       " 'A King in New York',\n",
       " 'A Kiss Before Dying',\n",
       " \"A Knight's Tale\",\n",
       " 'A LEGO Brickumentary',\n",
       " 'A League of Their Own',\n",
       " 'A Lesson Before Dying',\n",
       " 'A Letter to Elia',\n",
       " 'A Letter to Momo',\n",
       " 'A Letter to Three Wives',\n",
       " 'A Letter to Uncle Boonmee',\n",
       " 'A Life Less Ordinary',\n",
       " \"A Limousine the Colour of Midsummer's Eve\",\n",
       " 'A Little Bit Zombie',\n",
       " 'A Little Bit of Soul',\n",
       " 'A Little Game',\n",
       " 'A Little Help',\n",
       " 'A Little Night Music',\n",
       " 'A Little Princess',\n",
       " 'A Little Romance',\n",
       " 'A Little Stiff',\n",
       " 'A Little Thing Called Love',\n",
       " 'A Little Trip to Heaven',\n",
       " 'A Lonely Place to Die',\n",
       " 'A Long Walk',\n",
       " 'A Long and Happy Life',\n",
       " 'A Lot Like Love',\n",
       " 'A Lot Like You',\n",
       " 'A Love Movie',\n",
       " 'A Loving Father',\n",
       " 'A Low Down Dirty Shame',\n",
       " 'A Magnificent Haunting',\n",
       " 'A Majority of One',\n",
       " 'A Man Apart',\n",
       " 'A Man Called Hero',\n",
       " 'A Man Called Horse',\n",
       " 'A Man Called Peter',\n",
       " 'A Man Escaped',\n",
       " 'A Man Named Pearl',\n",
       " 'A Man Vanishes',\n",
       " 'A Man and a Woman',\n",
       " 'A Man for All Seasons',\n",
       " 'A Man from Boulevard des Capucines',\n",
       " 'A Man to Remember',\n",
       " \"A Man's Job\",\n",
       " 'A Map of the World',\n",
       " 'A Marine Story',\n",
       " 'A Master Builder',\n",
       " 'A Matter of Dignity',\n",
       " 'A Matter of Loaf and Death',\n",
       " 'A Matter of Size',\n",
       " 'A Matter of Taste',\n",
       " 'A Midnight Clear',\n",
       " \"A Midsummer Night's Dream\",\n",
       " \"A Midsummer Night's Sex Comedy\",\n",
       " \"A Midwinter's Tale\",\n",
       " 'A Mighty Heart',\n",
       " 'A Mighty Wind',\n",
       " 'A Million Ways to Die in the West',\n",
       " 'A Moment of Innocence',\n",
       " 'A Moment to Remember',\n",
       " \"A Monkey's Tale\",\n",
       " 'A Monster in Paris',\n",
       " 'A Month in the Country',\n",
       " 'A Most Violent Year',\n",
       " 'A Most Wanted Man',\n",
       " \"A Mother's Courage: Talking Back to Autism\",\n",
       " 'A Movie',\n",
       " 'A Mulher Invisèvel',\n",
       " 'A Muppet Family Christmas',\n",
       " 'A Muse',\n",
       " 'A Necessary Death',\n",
       " 'A Nest of Gentry',\n",
       " 'A New Kind of Love',\n",
       " 'A New Leaf',\n",
       " 'A New Life',\n",
       " 'A Night Full of Rain',\n",
       " 'A Night at the Opera',\n",
       " 'A Night for Dying Tigers',\n",
       " 'A Night in Heaven',\n",
       " 'A Night in Old Mexico',\n",
       " 'A Night in the Life of Jimmy Reardon',\n",
       " 'A Night to Remember',\n",
       " 'A Nightingale Falling',\n",
       " 'A Nightmare on Elm Street',\n",
       " \"A Nightmare on Elm Street 2: Freddy's Revenge\",\n",
       " 'A Nightmare on Elm Street 3: Dream Warriors',\n",
       " 'A Nightmare on Elm Street 4: The Dream Master',\n",
       " 'A Nightmare on Elm Street 5: The Dream Child',\n",
       " 'A One-Way Trip to Antibes',\n",
       " 'A Paralyzing Fear: The Story of Polio in America',\n",
       " 'A Parting Shot',\n",
       " 'A Passage to India',\n",
       " 'A Patch of Blue',\n",
       " 'A Patriotic Man',\n",
       " 'A Peck on the Cheek',\n",
       " 'A Perfect Candidate',\n",
       " 'A Perfect Day',\n",
       " 'A Perfect Ending',\n",
       " 'A Perfect Getaway',\n",
       " 'A Perfect Match',\n",
       " 'A Perfect Murder',\n",
       " 'A Perfect Plan',\n",
       " 'A Performance of Macbeth',\n",
       " 'A Phantasy',\n",
       " 'A Pierrot',\n",
       " 'A Pigeon Sat on a Branch Reflecting on Existence',\n",
       " 'A Place Called Chiapas',\n",
       " 'A Place at the Table',\n",
       " 'A Place in the Sun',\n",
       " 'A Place in the World',\n",
       " 'A Plumm Summer',\n",
       " 'A Pool Without Water',\n",
       " 'A Prairie Home Companion',\n",
       " 'A Prayer for the Dying',\n",
       " 'A Price Above Rubies',\n",
       " 'A Princess for Christmas',\n",
       " 'A Private Function',\n",
       " 'A Promise',\n",
       " 'A Prophet',\n",
       " 'A Pure Formality',\n",
       " 'A Question of Silence',\n",
       " 'A Quiet Life',\n",
       " 'A Quiet Love',\n",
       " 'A Quiet Place in the Country',\n",
       " 'A Rage in Harlem',\n",
       " 'A Railway Station for Two',\n",
       " 'A Raisin in the Sun',\n",
       " 'A Ring of Endless Light',\n",
       " 'A River Runs Through It',\n",
       " 'A Room for Romeo Brass',\n",
       " 'A Room with a View',\n",
       " 'A Royal Affair',\n",
       " 'A Scanner Darkly',\n",
       " 'A Scene at the Sea',\n",
       " 'A Screaming Man',\n",
       " 'A Second Chance',\n",
       " 'A Second Childhood',\n",
       " 'A Secret',\n",
       " 'A Self-Made Hero',\n",
       " 'A Sense of History',\n",
       " 'A Separation',\n",
       " 'A Serbian Film',\n",
       " 'A Serious Man',\n",
       " 'A Shine of Rainbows',\n",
       " 'A Shock to the System',\n",
       " 'A Short Film About Killing',\n",
       " 'A Short Film About Love',\n",
       " 'A Short History of Decay',\n",
       " 'A Shot in the Dark',\n",
       " 'A Simple Curve',\n",
       " 'A Simple Life',\n",
       " 'A Simple Plan',\n",
       " 'A Simple Twist of Fate',\n",
       " 'A Simple Wish',\n",
       " 'A Single Girl',\n",
       " 'A Single Man',\n",
       " 'A Single Shot',\n",
       " 'A Sinner in Mecca',\n",
       " 'A Skin Too Few: The Days of Nick Drake',\n",
       " 'A Slave of Love',\n",
       " 'A Slipping-Down Life',\n",
       " 'A Small Act',\n",
       " 'A Small September Affair',\n",
       " 'A Smile Like Yours',\n",
       " 'A Snake of June',\n",
       " \"A Soldier's Daughter Never Cries\",\n",
       " \"A Soldier's Story\",\n",
       " \"A Soldier's Sweetheart\",\n",
       " \"A Soldier's Tale\",\n",
       " 'A Somewhat Gentle Man',\n",
       " 'A Song for Martin',\n",
       " 'A Song to Remember',\n",
       " 'A Special Day',\n",
       " 'A Spell to Ward Off the Darkness',\n",
       " 'A Star Is Born',\n",
       " 'A Stone Left Unturned',\n",
       " 'A Storm in Summer',\n",
       " 'A Story of Floating Weeds',\n",
       " 'A Story of Yonosuke',\n",
       " 'A Stranger Among Us',\n",
       " 'A Stranger of Mine',\n",
       " \"A Stranger's Heart\",\n",
       " 'A Streetcar Named Desire',\n",
       " 'A Summer Place',\n",
       " \"A Summer at Grandpa's\",\n",
       " 'A Summer by the River',\n",
       " 'A Summer in Genoa',\n",
       " 'A Summer in La Goulette',\n",
       " \"A Summer's Tale\",\n",
       " 'A Sun-Tribe Myth from the Bakumatsu Era',\n",
       " 'A Sunday Kind of Love',\n",
       " 'A Sunday in Kigali',\n",
       " 'A Sunday in the Country',\n",
       " 'A Swedish Love Story',\n",
       " 'A Table for One',\n",
       " \"A Tailor's Maid\",\n",
       " 'A Tale of Love and Darkness',\n",
       " 'A Tale of Two Cities',\n",
       " 'A Tale of Two Sisters',\n",
       " 'A Tale of Winter',\n",
       " 'A Tale of a Naughty Girl',\n",
       " 'A Tale of the Wind',\n",
       " 'A Talking Picture',\n",
       " 'A Taste of Honey',\n",
       " 'A Taxing Woman',\n",
       " \"A Taxing Woman's Return\",\n",
       " 'A Teacher',\n",
       " 'A Ted Named Gooby',\n",
       " 'A Thirsty World',\n",
       " 'A Thousand Acres',\n",
       " 'A Thousand Clowns',\n",
       " 'A Thousand Cuts',\n",
       " 'A Thousand Elephants',\n",
       " 'A Thousand Kisses',\n",
       " 'A Thousand Months',\n",
       " 'A Thousand Peace Clouds Encircle the Sky',\n",
       " 'A Thousand Words',\n",
       " 'A Tickle in the Heart',\n",
       " 'A Time for Drunken Horses',\n",
       " 'A Time of Roses',\n",
       " 'A Time to Kill',\n",
       " 'A Time to Live, a Time to Die',\n",
       " 'A Time to Love and a Time to Die',\n",
       " 'A Touch of Class',\n",
       " 'A Touch of Sin',\n",
       " 'A Touch of Spice',\n",
       " 'A Touch of Zen',\n",
       " 'A Town Called Panic',\n",
       " 'A Town Like Alice',\n",
       " 'A Tree Grows in Brooklyn',\n",
       " 'A True Mob Story',\n",
       " \"A Turtle's Tale: Sammy's Adventures\",\n",
       " 'A Very Brady Sequel',\n",
       " 'A Very British Gangster',\n",
       " 'A Very Harold & Kumar 3D Christmas',\n",
       " 'A Very Long Engagement',\n",
       " 'A Very Social Secretary',\n",
       " 'A View to a Kill',\n",
       " 'A Walk Into the Sea: Danny Williams and the Warhol Factory',\n",
       " 'A Walk in the Clouds',\n",
       " 'A Walk in the Sun',\n",
       " 'A Walk on the Moon',\n",
       " 'A Walk to Remember',\n",
       " 'A War',\n",
       " 'A Way of Life',\n",
       " 'A Wedding',\n",
       " 'A Wednesday',\n",
       " 'A Werewolf Boy',\n",
       " 'A Wife Confesses',\n",
       " 'A Woman Called Golda',\n",
       " 'A Woman Is a Woman',\n",
       " 'A Woman Under the Influence',\n",
       " 'A Woman of Paris: A Drama of Fate',\n",
       " \"A Woman's Decision\",\n",
       " \"A Woman's Face\",\n",
       " \"A Woman's Tale\",\n",
       " \"A Woman's Way\",\n",
       " 'A Woman, a Gun and a Noodle Shop',\n",
       " 'A World Apart',\n",
       " 'A World Without Thieves',\n",
       " 'A Year Ago in Winter',\n",
       " 'A Year Along the Abandoned Road',\n",
       " 'A Year in Champagne',\n",
       " 'A cambio de nada',\n",
       " 'A golpes',\n",
       " 'A-1 Headline',\n",
       " 'A.C.A.B.',\n",
       " 'A.C.A.B. All Cats Are Brilliant',\n",
       " 'A.C.O.D.',\n",
       " 'A.I. Artificial Intelligence',\n",
       " 'A.P.E.X.',\n",
       " 'A/k/a Tommy Chong',\n",
       " 'A2',\n",
       " 'ABC Africa',\n",
       " 'ABCD (Any Body Can Dance)',\n",
       " 'AKA',\n",
       " 'AM1200',\n",
       " 'ATL',\n",
       " 'AVP: Alien vs. Predator',\n",
       " 'Aab, baad, khaak',\n",
       " 'Aachi and Ssipak',\n",
       " 'Aadhavan',\n",
       " 'Aadukalam',\n",
       " 'Aaja Nachle',\n",
       " 'Aakrosh',\n",
       " 'Aalavandhan',\n",
       " 'Aaltra',\n",
       " 'Aamdani Atthanni Kharcha Rupaiya',\n",
       " 'Aankhen',\n",
       " 'Aanmodderfakker',\n",
       " 'Aarakshan',\n",
       " 'Aasai',\n",
       " 'Aashiq Banaya Aapne: Love Takes Over',\n",
       " 'Aashiqui 2',\n",
       " 'Ab Tak Chhappan',\n",
       " 'Abandon',\n",
       " 'Abduction',\n",
       " 'Abel',\n",
       " 'Abendland',\n",
       " 'Aberdeen',\n",
       " 'Abiogenesis',\n",
       " 'Abominable',\n",
       " 'About Adam',\n",
       " 'About Elly',\n",
       " 'About Last Night',\n",
       " 'About Last Night...',\n",
       " 'About Love',\n",
       " 'About Sarah',\n",
       " 'About Schmidt',\n",
       " 'About Sunny',\n",
       " 'About Time',\n",
       " 'About a Boy',\n",
       " 'About a Girl',\n",
       " 'About the Pink Sky',\n",
       " 'Above Dark Waters',\n",
       " 'Above and Below',\n",
       " 'Above and Beyond',\n",
       " 'Above the Law',\n",
       " 'Above the Rim',\n",
       " 'Above the Street, Below the Water',\n",
       " 'Abraham',\n",
       " 'Abraham Lincoln: Vampire Hunter',\n",
       " \"Abraham's Valley\",\n",
       " 'Absence of Malice',\n",
       " 'Absent',\n",
       " 'Absent Minded',\n",
       " 'Absentia',\n",
       " 'Absolute Power',\n",
       " 'Absurdistan',\n",
       " 'Acacia',\n",
       " 'Accattone',\n",
       " 'Accepted',\n",
       " 'Accident',\n",
       " 'Accidents Happen',\n",
       " 'Accièn mutante',\n",
       " 'Accomplices',\n",
       " 'According to Pereira',\n",
       " 'Accused',\n",
       " 'Ace Attorney',\n",
       " 'Ace Ventura: Pet Detective',\n",
       " 'Ace Ventura: When Nature Calls',\n",
       " 'Ace in the Hole',\n",
       " 'Ace of Hearts',\n",
       " 'Aces High',\n",
       " 'Achilles and the Tortoise',\n",
       " 'Aclè',\n",
       " 'Acolytes',\n",
       " 'Acqua e sapone',\n",
       " 'Across the Pacific',\n",
       " 'Across the River',\n",
       " 'Across the Universe',\n",
       " 'Act of Valor',\n",
       " 'Act of Violence',\n",
       " 'Actas de Marusia',\n",
       " 'Action Jackson',\n",
       " 'Actress',\n",
       " 'Actrices',\n",
       " 'Acts of Worship',\n",
       " 'Ad Fundum',\n",
       " 'Ad Inexplorata',\n",
       " 'Adam',\n",
       " 'Adam & Paul',\n",
       " 'Adam & Steve',\n",
       " 'Adam Curtis: Bitter Lake',\n",
       " 'Adam Resurrected',\n",
       " 'Adam and Dog',\n",
       " \"Adam's Apples\",\n",
       " \"Adam's Rib\",\n",
       " 'Adama',\n",
       " 'Adanggaman',\n",
       " 'Adaptation.',\n",
       " 'Addams Family Reunion',\n",
       " 'Addams Family Values',\n",
       " 'Addicted',\n",
       " 'Addicted to Love',\n",
       " 'Addictions and Subtractions',\n",
       " 'Address Unknown',\n",
       " 'Adelheid',\n",
       " 'Adhurs',\n",
       " 'Adios Carmen',\n",
       " 'Admiral',\n",
       " 'Adoration',\n",
       " 'Adore',\n",
       " 'Adrift',\n",
       " 'Adrift in Manhattan',\n",
       " 'Adrift in Tokyo',\n",
       " 'Adult World',\n",
       " 'Advantageous',\n",
       " 'Adventureland',\n",
       " 'Adventures in Babysitting',\n",
       " 'Adventures in the Sin Bin',\n",
       " 'Adventures of Arsene Lupin',\n",
       " 'Adventures of Don Juan',\n",
       " 'Adventures of Power',\n",
       " 'Adventures of Zatoichi',\n",
       " 'Advise & Consent',\n",
       " 'Adèo e Eva',\n",
       " 'Ae Fond Kiss...',\n",
       " 'Aferim!',\n",
       " 'Affinity',\n",
       " 'Afflicted',\n",
       " 'Affliction',\n",
       " 'Afghan Luke',\n",
       " 'Afghan Star',\n",
       " 'Africa United',\n",
       " 'Africa addio',\n",
       " 'Africa: The Serengeti',\n",
       " 'African Cats',\n",
       " 'Afro Samurai: Resurrection',\n",
       " 'After Dark, My Sweet',\n",
       " 'After Earth',\n",
       " 'After Fall, Winter',\n",
       " 'After Hours',\n",
       " 'After Innocence',\n",
       " 'After Life',\n",
       " 'After Lucia',\n",
       " 'After School',\n",
       " 'After This Our Exile',\n",
       " 'After Tiller',\n",
       " 'After the Dark',\n",
       " 'After the Promise',\n",
       " 'After the Rain',\n",
       " 'After the Rehearsal',\n",
       " 'After the Storm',\n",
       " 'After the Sunset',\n",
       " 'After the Wedding',\n",
       " 'After.Life',\n",
       " 'AfterDeath',\n",
       " 'Afterburn',\n",
       " 'Afterglow',\n",
       " 'Afterlife',\n",
       " 'Aftermath',\n",
       " 'Aftermath: Population Zero',\n",
       " 'Afternoon Delight',\n",
       " 'Afterschool',\n",
       " 'Aftershock',\n",
       " 'Aftershock: Earthquake in New York',\n",
       " 'Afterwards',\n",
       " 'Against All Odds',\n",
       " 'Against the Current',\n",
       " 'Agata and the Storm',\n",
       " 'Agatha',\n",
       " 'Age of Uprising: The Legend of Michael Kohlhaas',\n",
       " 'Agency of Vengeance: Dark Rising',\n",
       " 'Agent Cody Banks',\n",
       " 'Agent Vinod',\n",
       " 'Aglaya',\n",
       " 'Agneepath',\n",
       " 'Agnes Browne',\n",
       " 'Agnes of God',\n",
       " 'Agnivarsha: The Fire and the Rain',\n",
       " 'Agnosia',\n",
       " 'Agora',\n",
       " 'Aguirre, the Wrath of God',\n",
       " 'Ah Fu',\n",
       " 'Ai Weiwei: Never Sorry',\n",
       " 'Aileen Wuornos: The Selling of a Serial Killer',\n",
       " 'Aileen: Life and Death of a Serial Killer',\n",
       " 'Aim High in Creation',\n",
       " 'Aimee & Jaguar',\n",
       " \"Ain't Them Bodies Saints\",\n",
       " \"Ain't in It for My Health: A Film About Levon Helm\",\n",
       " 'Air America',\n",
       " 'Air Bud',\n",
       " 'Air Bud: Golden Receiver',\n",
       " 'Air Bud: Seventh Inning Fetch',\n",
       " 'Air Bud: Spikes Back',\n",
       " 'Air Buddies',\n",
       " 'Air Doll',\n",
       " 'Air Force',\n",
       " 'Air Force One',\n",
       " 'Air Guitar Nation',\n",
       " 'Airbag',\n",
       " 'Airplane!',\n",
       " 'Airport',\n",
       " 'Aitraaz',\n",
       " 'Aiyyaa',\n",
       " 'Ajab Prem Ki Ghazab Kahani',\n",
       " 'Ajami',\n",
       " 'Ajlawju',\n",
       " 'Ajnabee',\n",
       " 'Akeelah and the Bee',\n",
       " 'Akelarre',\n",
       " 'Akira',\n",
       " 'Aks',\n",
       " 'Aksuat',\n",
       " 'Al Capone',\n",
       " 'Al otro lado',\n",
       " 'Al-ikhtiyar',\n",
       " 'Alabama Moon',\n",
       " 'Aladdin',\n",
       " 'Aladdin and the King of Thieves',\n",
       " 'Aladin',\n",
       " 'Alai Payuthey',\n",
       " 'Alamar',\n",
       " 'Alambrista!',\n",
       " 'Alan & Naomi',\n",
       " ...]"
      ]
     },
     "execution_count": 8,
     "metadata": {},
     "output_type": "execute_result"
    }
   ],
   "source": [
    "col.distinct(\"title\")"
   ]
  },
  {
   "cell_type": "code",
   "execution_count": 9,
   "id": "fd353ccb",
   "metadata": {},
   "outputs": [
    {
     "data": {
      "text/plain": [
       "23530"
      ]
     },
     "execution_count": 9,
     "metadata": {},
     "output_type": "execute_result"
    }
   ],
   "source": [
    "col.count_documents({})"
   ]
  },
  {
   "cell_type": "markdown",
   "id": "ba3190ed-0bd5-4406-8e40-f6af04c08ad0",
   "metadata": {},
   "source": [
    "### Pregunta 1\n",
    "El director que más premios ha ganado por género"
   ]
  },
  {
   "cell_type": "code",
   "execution_count": 10,
   "id": "b8418697-cc9e-4193-8028-bd06e31d68d2",
   "metadata": {},
   "outputs": [],
   "source": [
    "#Consulta a base de datos MongoDB\n",
    "# Con :0 al campo se le indica a Mongo que NO debe traer la columna\n",
    "# Con :1 al campo se le indica a Mongo que debe traer la columna\n",
    "result = col.find({}, {\"_id\": 0, \"awards.wins\": 1, \"directors\":1, \"genres\":1 })"
   ]
  },
  {
   "cell_type": "code",
   "execution_count": 11,
   "id": "90c1f285-2155-4ac5-a449-dcdf4de9c7d3",
   "metadata": {},
   "outputs": [],
   "source": [
    "df = pd.json_normalize(result).rename(columns = {\"directors\":\"directors\", \"awards.wins\": \"wins\", \"genres\":\"genres\"})"
   ]
  },
  {
   "cell_type": "code",
   "execution_count": 12,
   "id": "a6370bd8",
   "metadata": {},
   "outputs": [
    {
     "data": {
      "text/html": [
       "<div>\n",
       "<style scoped>\n",
       "    .dataframe tbody tr th:only-of-type {\n",
       "        vertical-align: middle;\n",
       "    }\n",
       "\n",
       "    .dataframe tbody tr th {\n",
       "        vertical-align: top;\n",
       "    }\n",
       "\n",
       "    .dataframe thead th {\n",
       "        text-align: right;\n",
       "    }\n",
       "</style>\n",
       "<table border=\"1\" class=\"dataframe\">\n",
       "  <thead>\n",
       "    <tr style=\"text-align: right;\">\n",
       "      <th></th>\n",
       "      <th>genres</th>\n",
       "      <th>directors</th>\n",
       "      <th>wins</th>\n",
       "    </tr>\n",
       "  </thead>\n",
       "  <tbody>\n",
       "    <tr>\n",
       "      <th>0</th>\n",
       "      <td>[Short]</td>\n",
       "      <td>[William K.L. Dickson]</td>\n",
       "      <td>1</td>\n",
       "    </tr>\n",
       "    <tr>\n",
       "      <th>1</th>\n",
       "      <td>[Short, Western]</td>\n",
       "      <td>[Edwin S. Porter]</td>\n",
       "      <td>1</td>\n",
       "    </tr>\n",
       "    <tr>\n",
       "      <th>2</th>\n",
       "      <td>[Short, Drama, Fantasy]</td>\n",
       "      <td>[Harold M. Shaw]</td>\n",
       "      <td>1</td>\n",
       "    </tr>\n",
       "    <tr>\n",
       "      <th>3</th>\n",
       "      <td>[Short, Drama]</td>\n",
       "      <td>[D.W. Griffith]</td>\n",
       "      <td>1</td>\n",
       "    </tr>\n",
       "    <tr>\n",
       "      <th>4</th>\n",
       "      <td>[Animation, Short, Comedy]</td>\n",
       "      <td>[Winsor McCay, J. Stuart Blackton]</td>\n",
       "      <td>1</td>\n",
       "    </tr>\n",
       "  </tbody>\n",
       "</table>\n",
       "</div>"
      ],
      "text/plain": [
       "                       genres                           directors  wins\n",
       "0                     [Short]              [William K.L. Dickson]     1\n",
       "1            [Short, Western]                   [Edwin S. Porter]     1\n",
       "2     [Short, Drama, Fantasy]                    [Harold M. Shaw]     1\n",
       "3              [Short, Drama]                     [D.W. Griffith]     1\n",
       "4  [Animation, Short, Comedy]  [Winsor McCay, J. Stuart Blackton]     1"
      ]
     },
     "execution_count": 12,
     "metadata": {},
     "output_type": "execute_result"
    }
   ],
   "source": [
    "df.head()"
   ]
  },
  {
   "cell_type": "code",
   "execution_count": 13,
   "id": "4a3ea982",
   "metadata": {},
   "outputs": [],
   "source": [
    "res_directors = df.explode(\"directors\")"
   ]
  },
  {
   "cell_type": "code",
   "execution_count": 15,
   "id": "c7084261",
   "metadata": {},
   "outputs": [],
   "source": [
    "res = res_directors.explode(\"genres\")"
   ]
  },
  {
   "cell_type": "code",
   "execution_count": 16,
   "id": "5b50f156",
   "metadata": {},
   "outputs": [
    {
     "data": {
      "text/html": [
       "<div>\n",
       "<style scoped>\n",
       "    .dataframe tbody tr th:only-of-type {\n",
       "        vertical-align: middle;\n",
       "    }\n",
       "\n",
       "    .dataframe tbody tr th {\n",
       "        vertical-align: top;\n",
       "    }\n",
       "\n",
       "    .dataframe thead th {\n",
       "        text-align: right;\n",
       "    }\n",
       "</style>\n",
       "<table border=\"1\" class=\"dataframe\">\n",
       "  <thead>\n",
       "    <tr style=\"text-align: right;\">\n",
       "      <th></th>\n",
       "      <th>genres</th>\n",
       "      <th>directors</th>\n",
       "      <th>wins</th>\n",
       "    </tr>\n",
       "  </thead>\n",
       "  <tbody>\n",
       "    <tr>\n",
       "      <th>0</th>\n",
       "      <td>Short</td>\n",
       "      <td>William K.L. Dickson</td>\n",
       "      <td>1</td>\n",
       "    </tr>\n",
       "    <tr>\n",
       "      <th>1</th>\n",
       "      <td>Short</td>\n",
       "      <td>Edwin S. Porter</td>\n",
       "      <td>1</td>\n",
       "    </tr>\n",
       "    <tr>\n",
       "      <th>1</th>\n",
       "      <td>Western</td>\n",
       "      <td>Edwin S. Porter</td>\n",
       "      <td>1</td>\n",
       "    </tr>\n",
       "    <tr>\n",
       "      <th>2</th>\n",
       "      <td>Short</td>\n",
       "      <td>Harold M. Shaw</td>\n",
       "      <td>1</td>\n",
       "    </tr>\n",
       "    <tr>\n",
       "      <th>2</th>\n",
       "      <td>Drama</td>\n",
       "      <td>Harold M. Shaw</td>\n",
       "      <td>1</td>\n",
       "    </tr>\n",
       "  </tbody>\n",
       "</table>\n",
       "</div>"
      ],
      "text/plain": [
       "    genres             directors  wins\n",
       "0    Short  William K.L. Dickson     1\n",
       "1    Short       Edwin S. Porter     1\n",
       "1  Western       Edwin S. Porter     1\n",
       "2    Short        Harold M. Shaw     1\n",
       "2    Drama        Harold M. Shaw     1"
      ]
     },
     "execution_count": 16,
     "metadata": {},
     "output_type": "execute_result"
    }
   ],
   "source": [
    "res.head()"
   ]
  },
  {
   "cell_type": "code",
   "execution_count": 17,
   "id": "ab99a38a",
   "metadata": {},
   "outputs": [
    {
     "data": {
      "text/plain": [
       "array([  1,   2,   0,   3,   5,   6,   7,   4,  10,  12,  19,   8,   9,\n",
       "        11,  21,  18,  14,  16,  13,  17,  15,  23,  22,  31,  32,  25,\n",
       "        33,  24,  30,  28,  35,  27,  36,  20,  44,  29,  43,  54,  39,\n",
       "        37,  42,  26,  34,  48,  56,  46,  69,  81,  64,  68,  79,  57,\n",
       "        49,  66,  97,  52, 127,  59, 114,  83,  70,  38,  50, 175, 105,\n",
       "        41, 120,  51,  63,  84,  58, 115,  87,  45,  61,  60,  40, 111,\n",
       "        74,  53,  77, 108,  73, 138, 133, 145,  80, 106,  75,  93,  67,\n",
       "        71, 102, 144, 119, 172, 109,  88, 130,  85,  82, 161,  55,  98,\n",
       "        78,  96, 185, 100, 171,  47, 162, 231,  86, 104,  91, 267, 146,\n",
       "        62, 210,  90], dtype=int64)"
      ]
     },
     "execution_count": 17,
     "metadata": {},
     "output_type": "execute_result"
    }
   ],
   "source": [
    "res['wins'].unique()"
   ]
  },
  {
   "cell_type": "code",
   "execution_count": 18,
   "id": "c22edef9-e3cd-4187-a382-065a3ca1a0a9",
   "metadata": {},
   "outputs": [
    {
     "data": {
      "text/plain": [
       "(55276, 3)"
      ]
     },
     "execution_count": 18,
     "metadata": {},
     "output_type": "execute_result"
    }
   ],
   "source": [
    "res.shape"
   ]
  },
  {
   "cell_type": "code",
   "execution_count": 20,
   "id": "0cf3f4b7-9d0f-4bcc-8e37-49dd6553d3c2",
   "metadata": {},
   "outputs": [
    {
     "data": {
      "text/plain": [
       "genres       object\n",
       "directors    object\n",
       "wins          int64\n",
       "dtype: object"
      ]
     },
     "execution_count": 20,
     "metadata": {},
     "output_type": "execute_result"
    }
   ],
   "source": [
    "res.dtypes"
   ]
  },
  {
   "cell_type": "code",
   "execution_count": 21,
   "id": "fa026db4-63f6-41f4-97ac-362ba5d79f3b",
   "metadata": {},
   "outputs": [
    {
     "data": {
      "text/html": [
       "<div>\n",
       "<style scoped>\n",
       "    .dataframe tbody tr th:only-of-type {\n",
       "        vertical-align: middle;\n",
       "    }\n",
       "\n",
       "    .dataframe tbody tr th {\n",
       "        vertical-align: top;\n",
       "    }\n",
       "\n",
       "    .dataframe thead th {\n",
       "        text-align: right;\n",
       "    }\n",
       "</style>\n",
       "<table border=\"1\" class=\"dataframe\">\n",
       "  <thead>\n",
       "    <tr style=\"text-align: right;\">\n",
       "      <th></th>\n",
       "      <th>genres</th>\n",
       "      <th>directors</th>\n",
       "      <th>wins</th>\n",
       "    </tr>\n",
       "  </thead>\n",
       "  <tbody>\n",
       "    <tr>\n",
       "      <th>7950</th>\n",
       "      <td>Drama</td>\n",
       "      <td>Kasi Lemmons</td>\n",
       "      <td>11</td>\n",
       "    </tr>\n",
       "    <tr>\n",
       "      <th>8282</th>\n",
       "      <td>Drama</td>\n",
       "      <td>Bill Condon</td>\n",
       "      <td>42</td>\n",
       "    </tr>\n",
       "    <tr>\n",
       "      <th>22182</th>\n",
       "      <td>Animation</td>\n",
       "      <td>Vinton Heuck</td>\n",
       "      <td>1</td>\n",
       "    </tr>\n",
       "    <tr>\n",
       "      <th>16429</th>\n",
       "      <td>Comedy</td>\n",
       "      <td>Will Gluck</td>\n",
       "      <td>1</td>\n",
       "    </tr>\n",
       "    <tr>\n",
       "      <th>20330</th>\n",
       "      <td>Drama</td>\n",
       "      <td>Mikael Marcimain</td>\n",
       "      <td>8</td>\n",
       "    </tr>\n",
       "  </tbody>\n",
       "</table>\n",
       "</div>"
      ],
      "text/plain": [
       "          genres         directors  wins\n",
       "7950       Drama      Kasi Lemmons    11\n",
       "8282       Drama       Bill Condon    42\n",
       "22182  Animation      Vinton Heuck     1\n",
       "16429     Comedy        Will Gluck     1\n",
       "20330      Drama  Mikael Marcimain     8"
      ]
     },
     "execution_count": 21,
     "metadata": {},
     "output_type": "execute_result"
    }
   ],
   "source": [
    "res.sample(5)"
   ]
  },
  {
   "cell_type": "markdown",
   "id": "39c805bb-388a-4f77-ada4-d4a61b6e3ed8",
   "metadata": {},
   "source": [
    "### Exploring and cleaning data"
   ]
  },
  {
   "cell_type": "code",
   "execution_count": 22,
   "id": "5bc37500-6f5f-412b-aa84-7aff4d53a2eb",
   "metadata": {},
   "outputs": [
    {
     "data": {
      "text/plain": [
       "NaN                593\n",
       "Woody Allen         83\n",
       "Takashi Miike       81\n",
       "John Huston         79\n",
       "John Ford           75\n",
       "                  ... \n",
       "Ole Schell           1\n",
       "Sara Ziff            1\n",
       "Kelly Duane          1\n",
       "Katie Galloway       1\n",
       "Marcin Koszalka      1\n",
       "Name: directors, Length: 11537, dtype: int64"
      ]
     },
     "execution_count": 22,
     "metadata": {},
     "output_type": "execute_result"
    }
   ],
   "source": [
    "res[\"directors\"].value_counts(dropna = False)"
   ]
  },
  {
   "cell_type": "code",
   "execution_count": 23,
   "id": "353eec50",
   "metadata": {},
   "outputs": [
    {
     "data": {
      "text/html": [
       "<div>\n",
       "<style scoped>\n",
       "    .dataframe tbody tr th:only-of-type {\n",
       "        vertical-align: middle;\n",
       "    }\n",
       "\n",
       "    .dataframe tbody tr th {\n",
       "        vertical-align: top;\n",
       "    }\n",
       "\n",
       "    .dataframe thead th {\n",
       "        text-align: right;\n",
       "    }\n",
       "</style>\n",
       "<table border=\"1\" class=\"dataframe\">\n",
       "  <thead>\n",
       "    <tr style=\"text-align: right;\">\n",
       "      <th></th>\n",
       "      <th>genres</th>\n",
       "      <th>directors</th>\n",
       "      <th>wins</th>\n",
       "    </tr>\n",
       "  </thead>\n",
       "  <tbody>\n",
       "    <tr>\n",
       "      <th>0</th>\n",
       "      <td>Short</td>\n",
       "      <td>William K.L. Dickson</td>\n",
       "      <td>1</td>\n",
       "    </tr>\n",
       "    <tr>\n",
       "      <th>1</th>\n",
       "      <td>Short</td>\n",
       "      <td>Edwin S. Porter</td>\n",
       "      <td>1</td>\n",
       "    </tr>\n",
       "    <tr>\n",
       "      <th>1</th>\n",
       "      <td>Western</td>\n",
       "      <td>Edwin S. Porter</td>\n",
       "      <td>1</td>\n",
       "    </tr>\n",
       "    <tr>\n",
       "      <th>2</th>\n",
       "      <td>Short</td>\n",
       "      <td>Harold M. Shaw</td>\n",
       "      <td>1</td>\n",
       "    </tr>\n",
       "    <tr>\n",
       "      <th>2</th>\n",
       "      <td>Drama</td>\n",
       "      <td>Harold M. Shaw</td>\n",
       "      <td>1</td>\n",
       "    </tr>\n",
       "    <tr>\n",
       "      <th>...</th>\n",
       "      <td>...</td>\n",
       "      <td>...</td>\n",
       "      <td>...</td>\n",
       "    </tr>\n",
       "    <tr>\n",
       "      <th>23527</th>\n",
       "      <td>Drama</td>\n",
       "      <td>Anne èmond</td>\n",
       "      <td>0</td>\n",
       "    </tr>\n",
       "    <tr>\n",
       "      <th>23528</th>\n",
       "      <td>Documentary</td>\n",
       "      <td>Chantal Akerman</td>\n",
       "      <td>0</td>\n",
       "    </tr>\n",
       "    <tr>\n",
       "      <th>23529</th>\n",
       "      <td>Comedy</td>\n",
       "      <td>Ed Blum</td>\n",
       "      <td>0</td>\n",
       "    </tr>\n",
       "    <tr>\n",
       "      <th>23529</th>\n",
       "      <td>Drama</td>\n",
       "      <td>Ed Blum</td>\n",
       "      <td>0</td>\n",
       "    </tr>\n",
       "    <tr>\n",
       "      <th>23529</th>\n",
       "      <td>Romance</td>\n",
       "      <td>Ed Blum</td>\n",
       "      <td>0</td>\n",
       "    </tr>\n",
       "  </tbody>\n",
       "</table>\n",
       "<p>54564 rows × 3 columns</p>\n",
       "</div>"
      ],
      "text/plain": [
       "            genres             directors  wins\n",
       "0            Short  William K.L. Dickson     1\n",
       "1            Short       Edwin S. Porter     1\n",
       "1          Western       Edwin S. Porter     1\n",
       "2            Short        Harold M. Shaw     1\n",
       "2            Drama        Harold M. Shaw     1\n",
       "...            ...                   ...   ...\n",
       "23527        Drama            Anne èmond     0\n",
       "23528  Documentary       Chantal Akerman     0\n",
       "23529       Comedy               Ed Blum     0\n",
       "23529        Drama               Ed Blum     0\n",
       "23529      Romance               Ed Blum     0\n",
       "\n",
       "[54564 rows x 3 columns]"
      ]
     },
     "execution_count": 23,
     "metadata": {},
     "output_type": "execute_result"
    }
   ],
   "source": [
    "res.dropna()"
   ]
  },
  {
   "cell_type": "code",
   "execution_count": 24,
   "id": "e80aaddf",
   "metadata": {},
   "outputs": [],
   "source": [
    "res.loc[df[\"wins\"] == \"\", \"wins\"] = \"0\""
   ]
  },
  {
   "cell_type": "code",
   "execution_count": 25,
   "id": "9380ea5f-ed99-424a-9ccc-722bf43e7090",
   "metadata": {},
   "outputs": [
    {
     "data": {
      "image/png": "[encoded data removed]",
      "text/plain": [
       "<Figure size 1440x216 with 1 Axes>"
      ]
     },
     "metadata": {
      "needs_background": "light"
     },
     "output_type": "display_data"
    }
   ],
   "source": [
    "plt.figure(figsize = (20, 3))\n",
    "plt.boxplot(res[\"wins\"], vert = False)\n",
    "plt.show()"
   ]
  },
  {
   "cell_type": "markdown",
   "id": "d7753e56-80bd-41e5-a94e-6c241f05a92a",
   "metadata": {},
   "source": [
    "### Transforming data"
   ]
  },
  {
   "cell_type": "code",
   "execution_count": 26,
   "id": "ef6192ba",
   "metadata": {},
   "outputs": [],
   "source": [
    "res[\"directors\"] = res[\"directors\"].astype(str)"
   ]
  },
  {
   "cell_type": "code",
   "execution_count": 27,
   "id": "ed499f72",
   "metadata": {},
   "outputs": [],
   "source": [
    "res[\"genres\"] = res[\"genres\"].astype(str)"
   ]
  },
  {
   "cell_type": "code",
   "execution_count": 28,
   "id": "c2805fb9",
   "metadata": {},
   "outputs": [],
   "source": [
    "res.groupby(['directors','genres'], as_index=True).sum().sort_values('wins',ascending = False)\n",
    "df_grouped = res.groupby(['directors','genres'], as_index=True).sum().sort_values('wins',ascending = False)"
   ]
  },
  {
   "cell_type": "code",
   "execution_count": 29,
   "id": "7407906a-0089-485b-9dcd-2a3db2032438",
   "metadata": {},
   "outputs": [
    {
     "data": {
      "text/html": [
       "<div>\n",
       "<style scoped>\n",
       "    .dataframe tbody tr th:only-of-type {\n",
       "        vertical-align: middle;\n",
       "    }\n",
       "\n",
       "    .dataframe tbody tr th {\n",
       "        vertical-align: top;\n",
       "    }\n",
       "\n",
       "    .dataframe thead th {\n",
       "        text-align: right;\n",
       "    }\n",
       "</style>\n",
       "<table border=\"1\" class=\"dataframe\">\n",
       "  <thead>\n",
       "    <tr style=\"text-align: right;\">\n",
       "      <th></th>\n",
       "      <th>genres</th>\n",
       "      <th>directors</th>\n",
       "      <th>wins</th>\n",
       "    </tr>\n",
       "  </thead>\n",
       "  <tbody>\n",
       "    <tr>\n",
       "      <th>21672</th>\n",
       "      <td>Romance</td>\n",
       "      <td>Amma Asante</td>\n",
       "      <td>13</td>\n",
       "    </tr>\n",
       "    <tr>\n",
       "      <th>22976</th>\n",
       "      <td>Mystery</td>\n",
       "      <td>Fruit Chan</td>\n",
       "      <td>4</td>\n",
       "    </tr>\n",
       "    <tr>\n",
       "      <th>896</th>\n",
       "      <td>Crime</td>\n",
       "      <td>Emilio Fernèndez</td>\n",
       "      <td>0</td>\n",
       "    </tr>\n",
       "    <tr>\n",
       "      <th>12406</th>\n",
       "      <td>Action</td>\n",
       "      <td>Kamal Haasan</td>\n",
       "      <td>1</td>\n",
       "    </tr>\n",
       "    <tr>\n",
       "      <th>23280</th>\n",
       "      <td>History</td>\n",
       "      <td>Rèdiger Suchsland</td>\n",
       "      <td>1</td>\n",
       "    </tr>\n",
       "  </tbody>\n",
       "</table>\n",
       "</div>"
      ],
      "text/plain": [
       "        genres          directors wins\n",
       "21672  Romance        Amma Asante   13\n",
       "22976  Mystery         Fruit Chan    4\n",
       "896      Crime   Emilio Fernèndez    0\n",
       "12406   Action       Kamal Haasan    1\n",
       "23280  History  Rèdiger Suchsland    1"
      ]
     },
     "execution_count": 29,
     "metadata": {},
     "output_type": "execute_result"
    }
   ],
   "source": [
    "res.sample(5)"
   ]
  },
  {
   "cell_type": "markdown",
   "id": "8b0f6e4c-e2b7-4d8c-b232-444d59a4e585",
   "metadata": {},
   "source": [
    "### Loading data"
   ]
  },
  {
   "cell_type": "code",
   "execution_count": 30,
   "id": "f3069c86-d86a-4ae3-8d6b-2216d9603149",
   "metadata": {},
   "outputs": [],
   "source": [
    "credentials = service_account.Credentials.from_service_account_file(\"./javeriana-dataprep.json\", scopes = [\"https://www.googleapis.com/auth/cloud-platform\"])"
   ]
  },
  {
   "cell_type": "code",
   "execution_count": 31,
   "id": "933d1b10-9d91-465f-870f-bc78a16a7964",
   "metadata": {},
   "outputs": [],
   "source": [
    "client = bigquery.Client(credentials = credentials, project = credentials.project_id)"
   ]
  },
  {
   "cell_type": "code",
   "execution_count": 32,
   "id": "09b7d626-8be6-4307-890f-be1daf21d9e1",
   "metadata": {},
   "outputs": [],
   "source": [
    "# Creating the job config\n",
    "job_config = bigquery.LoadJobConfig(\n",
    "    schema = [\n",
    "        # Supported datatypes: https://cloud.google.com/bigquery/docs/reference/standard-sql/data-types\n",
    "        bigquery.SchemaField(\"genres\", bigquery.enums.SqlTypeNames.STRING),\n",
    "        bigquery.SchemaField(\"directors\", bigquery.enums.SqlTypeNames.STRING),\n",
    "        bigquery.SchemaField(\"wins\", bigquery.enums.SqlTypeNames.INT64)\n",
    "    ],\n",
    "    # Drod and re-create table, if exist\n",
    "    write_disposition = \"WRITE_TRUNCATE\",\n",
    ")"
   ]
  },
  {
   "cell_type": "code",
   "execution_count": 33,
   "id": "a66f1495-2768-4669-8670-14a1dc8703fd",
   "metadata": {},
   "outputs": [],
   "source": [
    "BQ_TABLE_NAME = \"dataprep.listings_directors_wins_onc\""
   ]
  },
  {
   "cell_type": "code",
   "execution_count": 34,
   "id": "d5792a43-61b1-434b-b919-c3518fcf0df9",
   "metadata": {},
   "outputs": [
    {
     "data": {
      "text/plain": [
       "LoadJob<project=javeriana-dataprep, location=us-central1, id=c8a56e0c-2caf-40cf-9ed7-f4c8f6a37497>"
      ]
     },
     "execution_count": 34,
     "metadata": {},
     "output_type": "execute_result"
    }
   ],
   "source": [
    "# Sending the job to BigQuery\n",
    "job = client.load_table_from_dataframe(\n",
    "    df_grouped, BQ_TABLE_NAME, job_config = job_config\n",
    ")\n",
    "\n",
    "job.result()"
   ]
  },
  {
   "cell_type": "code",
   "execution_count": 35,
   "id": "9364e9ca-c45e-4f32-b428-43e7af0b137a",
   "metadata": {},
   "outputs": [
    {
     "name": "stdout",
     "output_type": "stream",
     "text": [
      "Loaded 33576 rows and 3 columns to dataprep.listings_directors_wins_onc\n"
     ]
    }
   ],
   "source": [
    "# Verifying if table was successfully created or updated\n",
    "table = client.get_table(BQ_TABLE_NAME)\n",
    "\n",
    "print(\"Loaded {} rows and {} columns to {}\".format(table.num_rows, len(table.schema), BQ_TABLE_NAME))"
   ]
  },
  {
   "cell_type": "code",
   "execution_count": 36,
   "id": "0a15dc1b-07d3-4bd8-b2a9-ab922a745f90",
   "metadata": {},
   "outputs": [
    {
     "data": {
      "text/html": [
       "<div>\n",
       "<style scoped>\n",
       "    .dataframe tbody tr th:only-of-type {\n",
       "        vertical-align: middle;\n",
       "    }\n",
       "\n",
       "    .dataframe tbody tr th {\n",
       "        vertical-align: top;\n",
       "    }\n",
       "\n",
       "    .dataframe thead th {\n",
       "        text-align: right;\n",
       "    }\n",
       "</style>\n",
       "<table border=\"1\" class=\"dataframe\">\n",
       "  <thead>\n",
       "    <tr style=\"text-align: right;\">\n",
       "      <th></th>\n",
       "      <th>directors</th>\n",
       "      <th>genres</th>\n",
       "      <th>wins</th>\n",
       "    </tr>\n",
       "  </thead>\n",
       "  <tbody>\n",
       "    <tr>\n",
       "      <th>0</th>\n",
       "      <td>Eli Roth</td>\n",
       "      <td>War</td>\n",
       "      <td>138</td>\n",
       "    </tr>\n",
       "    <tr>\n",
       "      <th>1</th>\n",
       "      <td>Quentin Tarantino</td>\n",
       "      <td>War</td>\n",
       "      <td>138</td>\n",
       "    </tr>\n",
       "    <tr>\n",
       "      <th>2</th>\n",
       "      <td>Steven Spielberg</td>\n",
       "      <td>War</td>\n",
       "      <td>126</td>\n",
       "    </tr>\n",
       "    <tr>\n",
       "      <th>3</th>\n",
       "      <td>nan</td>\n",
       "      <td>War</td>\n",
       "      <td>109</td>\n",
       "    </tr>\n",
       "    <tr>\n",
       "      <th>4</th>\n",
       "      <td>Guillermo del Toro</td>\n",
       "      <td>War</td>\n",
       "      <td>106</td>\n",
       "    </tr>\n",
       "    <tr>\n",
       "      <th>...</th>\n",
       "      <td>...</td>\n",
       "      <td>...</td>\n",
       "      <td>...</td>\n",
       "    </tr>\n",
       "    <tr>\n",
       "      <th>33571</th>\n",
       "      <td>Laurent Bècue-Renard</td>\n",
       "      <td>Documentary</td>\n",
       "      <td>0</td>\n",
       "    </tr>\n",
       "    <tr>\n",
       "      <th>33572</th>\n",
       "      <td>Kevin Pollak</td>\n",
       "      <td>Documentary</td>\n",
       "      <td>0</td>\n",
       "    </tr>\n",
       "    <tr>\n",
       "      <th>33573</th>\n",
       "      <td>Kevin Pang</td>\n",
       "      <td>Documentary</td>\n",
       "      <td>0</td>\n",
       "    </tr>\n",
       "    <tr>\n",
       "      <th>33574</th>\n",
       "      <td>Kevin Mazur</td>\n",
       "      <td>Documentary</td>\n",
       "      <td>0</td>\n",
       "    </tr>\n",
       "    <tr>\n",
       "      <th>33575</th>\n",
       "      <td>Kimmo Koskela</td>\n",
       "      <td>Documentary</td>\n",
       "      <td>0</td>\n",
       "    </tr>\n",
       "  </tbody>\n",
       "</table>\n",
       "<p>33576 rows × 3 columns</p>\n",
       "</div>"
      ],
      "text/plain": [
       "                  directors       genres  wins\n",
       "0                  Eli Roth          War   138\n",
       "1         Quentin Tarantino          War   138\n",
       "2          Steven Spielberg          War   126\n",
       "3                       nan          War   109\n",
       "4        Guillermo del Toro          War   106\n",
       "...                     ...          ...   ...\n",
       "33571  Laurent Bècue-Renard  Documentary     0\n",
       "33572          Kevin Pollak  Documentary     0\n",
       "33573            Kevin Pang  Documentary     0\n",
       "33574           Kevin Mazur  Documentary     0\n",
       "33575         Kimmo Koskela  Documentary     0\n",
       "\n",
       "[33576 rows x 3 columns]"
      ]
     },
     "execution_count": 36,
     "metadata": {},
     "output_type": "execute_result"
    }
   ],
   "source": [
    "query = \"\"\"SELECT * FROM `javeriana-dataprep.dataprep.listings_directors_wins_onc`\"\"\"\n",
    "\n",
    "pd.read_gbq(query, credentials = credentials)"
   ]
  },
  {
   "cell_type": "markdown",
   "id": "9fd0c052-3640-43f5-ab68-d633a4c26ac3",
   "metadata": {},
   "source": [
    "### Pregunta 2\n",
    "¿Cuantas peliculas se han lanzado por año?"
   ]
  },
  {
   "cell_type": "markdown",
   "id": "812430d6-774d-42d1-a795-122204860b1c",
   "metadata": {},
   "source": [
    "### Extracting data"
   ]
  },
  {
   "cell_type": "code",
   "execution_count": 37,
   "id": "6d68652d-5dd2-4568-8164-809c926811b7",
   "metadata": {},
   "outputs": [],
   "source": [
    "#Consulta a base de datos MongoDB\n",
    "# Con :0 al campo se le indica a Mongo que NO debe traer la columna\n",
    "# Con :1 al campo se le indica a Mongo que debe traer la columna\n",
    "result2 = col.find({}, {\"_id\": 0, \"title\": 1, \"year\": 1})"
   ]
  },
  {
   "cell_type": "code",
   "execution_count": 38,
   "id": "de95e579-c594-47c3-ba82-949951046d80",
   "metadata": {},
   "outputs": [],
   "source": [
    "#Llevar resultado de MongoDB a un dataFrame de Pandas\n",
    "#df = pd.json_normalize(result).rename(columns = {\"title\": \"name\", \"genre.0\": \"genre\", \"awards.wins\": \"awards\"})\n",
    "df2 = pd.json_normalize(result2)"
   ]
  },
  {
   "cell_type": "code",
   "execution_count": 39,
   "id": "6f6026c6-9297-4731-93a3-bf46d2565e11",
   "metadata": {},
   "outputs": [
    {
     "data": {
      "text/plain": [
       "(23530, 2)"
      ]
     },
     "execution_count": 39,
     "metadata": {},
     "output_type": "execute_result"
    }
   ],
   "source": [
    "df2.shape"
   ]
  },
  {
   "cell_type": "code",
   "execution_count": 40,
   "id": "4620a5ea-f869-417c-a329-d082d99c9f58",
   "metadata": {},
   "outputs": [
    {
     "data": {
      "text/plain": [
       "title    object\n",
       "year     object\n",
       "dtype: object"
      ]
     },
     "execution_count": 40,
     "metadata": {},
     "output_type": "execute_result"
    }
   ],
   "source": [
    "df2.dtypes"
   ]
  },
  {
   "cell_type": "code",
   "execution_count": 41,
   "id": "c7d2ee59-fb70-43dc-a205-290eb02962ea",
   "metadata": {},
   "outputs": [
    {
     "data": {
      "text/html": [
       "<div>\n",
       "<style scoped>\n",
       "    .dataframe tbody tr th:only-of-type {\n",
       "        vertical-align: middle;\n",
       "    }\n",
       "\n",
       "    .dataframe tbody tr th {\n",
       "        vertical-align: top;\n",
       "    }\n",
       "\n",
       "    .dataframe thead th {\n",
       "        text-align: right;\n",
       "    }\n",
       "</style>\n",
       "<table border=\"1\" class=\"dataframe\">\n",
       "  <thead>\n",
       "    <tr style=\"text-align: right;\">\n",
       "      <th></th>\n",
       "      <th>title</th>\n",
       "      <th>year</th>\n",
       "    </tr>\n",
       "  </thead>\n",
       "  <tbody>\n",
       "    <tr>\n",
       "      <th>12789</th>\n",
       "      <td>A Hole in My Heart</td>\n",
       "      <td>2004</td>\n",
       "    </tr>\n",
       "    <tr>\n",
       "      <th>2876</th>\n",
       "      <td>Roma</td>\n",
       "      <td>1972</td>\n",
       "    </tr>\n",
       "    <tr>\n",
       "      <th>10071</th>\n",
       "      <td>Pay It Forward</td>\n",
       "      <td>2000</td>\n",
       "    </tr>\n",
       "    <tr>\n",
       "      <th>17695</th>\n",
       "      <td>Harlan: In the Shadow of Jew Suess</td>\n",
       "      <td>2008</td>\n",
       "    </tr>\n",
       "    <tr>\n",
       "      <th>13320</th>\n",
       "      <td>Breakfast on Pluto</td>\n",
       "      <td>2005</td>\n",
       "    </tr>\n",
       "  </tbody>\n",
       "</table>\n",
       "</div>"
      ],
      "text/plain": [
       "                                    title  year\n",
       "12789                  A Hole in My Heart  2004\n",
       "2876                                 Roma  1972\n",
       "10071                      Pay It Forward  2000\n",
       "17695  Harlan: In the Shadow of Jew Suess  2008\n",
       "13320                  Breakfast on Pluto  2005"
      ]
     },
     "execution_count": 41,
     "metadata": {},
     "output_type": "execute_result"
    }
   ],
   "source": [
    "df2.sample(5)"
   ]
  },
  {
   "cell_type": "markdown",
   "id": "7e3c9e64-2fa0-4b4a-be28-256bc3435e8a",
   "metadata": {},
   "source": [
    "### Exploring and cleaning data"
   ]
  },
  {
   "cell_type": "code",
   "execution_count": 42,
   "id": "bf1d1251-d95d-4f1c-a03c-66f316442c7a",
   "metadata": {},
   "outputs": [
    {
     "data": {
      "text/plain": [
       "Jane Eyre            6\n",
       "The Journey          6\n",
       "The Terrorist        6\n",
       "The Hole             6\n",
       "Hamlet               6\n",
       "                    ..\n",
       "City of Industry     1\n",
       "Chasing Amy          1\n",
       "Happy Together       1\n",
       "The Manson Family    1\n",
       "No Home Movie        1\n",
       "Name: title, Length: 21641, dtype: int64"
      ]
     },
     "execution_count": 42,
     "metadata": {},
     "output_type": "execute_result"
    }
   ],
   "source": [
    "df2[\"title\"].value_counts(dropna = False)"
   ]
  },
  {
   "cell_type": "code",
   "execution_count": 43,
   "id": "33c24228-4bc2-415e-9f18-4c165de38f66",
   "metadata": {},
   "outputs": [
    {
     "data": {
      "text/plain": [
       "2013     1220\n",
       "2014     1147\n",
       "2012     1109\n",
       "2011     1040\n",
       "2009      990\n",
       "         ... \n",
       "1891        1\n",
       "1999è       1\n",
       "1995è       1\n",
       "2000è       1\n",
       "1893        1\n",
       "Name: year, Length: 134, dtype: int64"
      ]
     },
     "execution_count": 43,
     "metadata": {},
     "output_type": "execute_result"
    }
   ],
   "source": [
    "df2[\"year\"].value_counts(dropna = False)"
   ]
  },
  {
   "cell_type": "code",
   "execution_count": 44,
   "id": "a9f60d8e-8a21-48a0-9295-dd49308773b2",
   "metadata": {},
   "outputs": [
    {
     "data": {
      "text/plain": [
       "array([1893, 1903, 1912, 1909, 1911, 1913, 1914, 1915, 1916, 1917, 1918,\n",
       "       1919, 1920, 1921, 1922, 1923, 1924, 1925, 1926, 1927, 1928, 1929,\n",
       "       1930, 1931, 1932, 1933, 1934, 1935, 1936, 1937, 1938, 1939, 1940,\n",
       "       1941, 1942, 1943, 2001, 1944, 1945, 1946, 1947, 1948, 1949, 1950,\n",
       "       1951, 1952, 1954, 1953, 1955, 1956, 1957, 1959, 1984, 1958, 1960,\n",
       "       1961, 1963, 1962, 1965, 1964, 1966, 1967, 1968, 1981, 1969, 1970,\n",
       "       1971, 1989, 1990, 1972, 1973, 1974, 1975, 1976, 1977, 1978, 1979,\n",
       "       1980, 1982, '1981è', 1983, 1985, 1987, 1986, '1986è', '1987è',\n",
       "       1988, '1988è', 1991, 2002, 1992, 1993, 1995, '1994è1998', 1994,\n",
       "       1996, 1997, 1998, '1996è', 2005, '1997è', 2000, 2003, 1999,\n",
       "       '1995è', 2006, 1896, 2010, 2004, 1894, '2000è', 2008, 2007,\n",
       "       '1999è', 1891, 2009, 2012, 2013, 2015, 2011, '2002è', '2003è',\n",
       "       2014, '2005è', '2006è', '2006è2012', '2006è2007', '2007è', '2009è',\n",
       "       '2011è', '2010è', '2012è', 2016, '2014è'], dtype=object)"
      ]
     },
     "execution_count": 44,
     "metadata": {},
     "output_type": "execute_result"
    }
   ],
   "source": [
    "pd.unique(df2[\"year\"])"
   ]
  },
  {
   "cell_type": "code",
   "execution_count": 45,
   "id": "77a06eab-e101-45ec-a302-ac2e4b7ae4e8",
   "metadata": {},
   "outputs": [],
   "source": [
    "#Dado que en la columna de year encontramos datos que no corresponden a años por que tienen simbolos al final, \n",
    "#procedemos a tomar los primeros 4 caracteres que corresponden al año.\n",
    "def first_four(x):\n",
    "    return [str(i)[0:4] for i in x]"
   ]
  },
  {
   "cell_type": "code",
   "execution_count": 46,
   "id": "a735435a-6999-4f22-8563-c81c3045bf07",
   "metadata": {},
   "outputs": [],
   "source": [
    "df2[\"year\"] = first_four(df2[\"year\"])"
   ]
  },
  {
   "cell_type": "code",
   "execution_count": 47,
   "id": "ddeffa5c-76ec-4c66-b14b-44390c56a216",
   "metadata": {},
   "outputs": [
    {
     "data": {
      "text/plain": [
       "array(['1893', '1903', '1912', '1909', '1911', '1913', '1914', '1915',\n",
       "       '1916', '1917', '1918', '1919', '1920', '1921', '1922', '1923',\n",
       "       '1924', '1925', '1926', '1927', '1928', '1929', '1930', '1931',\n",
       "       '1932', '1933', '1934', '1935', '1936', '1937', '1938', '1939',\n",
       "       '1940', '1941', '1942', '1943', '2001', '1944', '1945', '1946',\n",
       "       '1947', '1948', '1949', '1950', '1951', '1952', '1954', '1953',\n",
       "       '1955', '1956', '1957', '1959', '1984', '1958', '1960', '1961',\n",
       "       '1963', '1962', '1965', '1964', '1966', '1967', '1968', '1981',\n",
       "       '1969', '1970', '1971', '1989', '1990', '1972', '1973', '1974',\n",
       "       '1975', '1976', '1977', '1978', '1979', '1980', '1982', '1983',\n",
       "       '1985', '1987', '1986', '1988', '1991', '2002', '1992', '1993',\n",
       "       '1995', '1994', '1996', '1997', '1998', '2005', '2000', '2003',\n",
       "       '1999', '2006', '1896', '2010', '2004', '1894', '2008', '2007',\n",
       "       '1891', '2009', '2012', '2013', '2015', '2011', '2014', '2016'],\n",
       "      dtype=object)"
      ]
     },
     "execution_count": 47,
     "metadata": {},
     "output_type": "execute_result"
    }
   ],
   "source": [
    "pd.unique(df2[\"year\"])"
   ]
  },
  {
   "cell_type": "code",
   "execution_count": 51,
   "id": "e4d77418-0899-4f30-b711-f8eadf81ab2b",
   "metadata": {
    "scrolled": true
   },
   "outputs": [
    {
     "ename": "AttributeError",
     "evalue": "'Series' object has no attribute 'info'",
     "output_type": "error",
     "traceback": [
      "\u001b[1;31m---------------------------------------------------------------------------\u001b[0m",
      "\u001b[1;31mAttributeError\u001b[0m                            Traceback (most recent call last)",
      "Input \u001b[1;32mIn [51]\u001b[0m, in \u001b[0;36m<cell line: 1>\u001b[1;34m()\u001b[0m\n\u001b[1;32m----> 1\u001b[0m \u001b[43mdf2\u001b[49m\u001b[43m[\u001b[49m\u001b[38;5;124;43m\"\u001b[39;49m\u001b[38;5;124;43myear\u001b[39;49m\u001b[38;5;124;43m\"\u001b[39;49m\u001b[43m]\u001b[49m\u001b[38;5;241;43m.\u001b[39;49m\u001b[43minfo\u001b[49m()\n",
      "File \u001b[1;32m~\\anaconda3\\lib\\site-packages\\pandas\\core\\generic.py:5487\u001b[0m, in \u001b[0;36mNDFrame.__getattr__\u001b[1;34m(self, name)\u001b[0m\n\u001b[0;32m   5480\u001b[0m \u001b[38;5;28;01mif\u001b[39;00m (\n\u001b[0;32m   5481\u001b[0m     name \u001b[38;5;129;01mnot\u001b[39;00m \u001b[38;5;129;01min\u001b[39;00m \u001b[38;5;28mself\u001b[39m\u001b[38;5;241m.\u001b[39m_internal_names_set\n\u001b[0;32m   5482\u001b[0m     \u001b[38;5;129;01mand\u001b[39;00m name \u001b[38;5;129;01mnot\u001b[39;00m \u001b[38;5;129;01min\u001b[39;00m \u001b[38;5;28mself\u001b[39m\u001b[38;5;241m.\u001b[39m_metadata\n\u001b[0;32m   5483\u001b[0m     \u001b[38;5;129;01mand\u001b[39;00m name \u001b[38;5;129;01mnot\u001b[39;00m \u001b[38;5;129;01min\u001b[39;00m \u001b[38;5;28mself\u001b[39m\u001b[38;5;241m.\u001b[39m_accessors\n\u001b[0;32m   5484\u001b[0m     \u001b[38;5;129;01mand\u001b[39;00m \u001b[38;5;28mself\u001b[39m\u001b[38;5;241m.\u001b[39m_info_axis\u001b[38;5;241m.\u001b[39m_can_hold_identifiers_and_holds_name(name)\n\u001b[0;32m   5485\u001b[0m ):\n\u001b[0;32m   5486\u001b[0m     \u001b[38;5;28;01mreturn\u001b[39;00m \u001b[38;5;28mself\u001b[39m[name]\n\u001b[1;32m-> 5487\u001b[0m \u001b[38;5;28;01mreturn\u001b[39;00m \u001b[38;5;28;43mobject\u001b[39;49m\u001b[38;5;241;43m.\u001b[39;49m\u001b[38;5;21;43m__getattribute__\u001b[39;49m\u001b[43m(\u001b[49m\u001b[38;5;28;43mself\u001b[39;49m\u001b[43m,\u001b[49m\u001b[43m \u001b[49m\u001b[43mname\u001b[49m\u001b[43m)\u001b[49m\n",
      "\u001b[1;31mAttributeError\u001b[0m: 'Series' object has no attribute 'info'"
     ]
    }
   ],
   "source": [
    "df2[\"year\"].info()"
   ]
  },
  {
   "cell_type": "code",
   "execution_count": 50,
   "id": "752cfe69-df3f-4fec-9169-cb796de013f8",
   "metadata": {},
   "outputs": [],
   "source": [
    "df2[\"year\"] = df2[\"year\"].astype(str).astype(int)"
   ]
  },
  {
   "cell_type": "markdown",
   "id": "1a9fb480-a672-4e79-8d6b-dc51f042784a",
   "metadata": {},
   "source": [
    "### Transforming data"
   ]
  },
  {
   "cell_type": "code",
   "execution_count": 52,
   "id": "c31cfd86-e4e0-42f1-b9e4-a31893e04cae",
   "metadata": {},
   "outputs": [],
   "source": [
    "df2[\"count\"] = 1"
   ]
  },
  {
   "cell_type": "code",
   "execution_count": 53,
   "id": "235e83aa-185a-464e-8728-cc0659a91ac2",
   "metadata": {},
   "outputs": [],
   "source": [
    "df_grouped2 = df2.groupby([\"year\"]).agg({\"count\": \"count\"}).reset_index()"
   ]
  },
  {
   "cell_type": "code",
   "execution_count": 54,
   "id": "2198a39e-7e6b-4355-995f-c10ae838c94e",
   "metadata": {},
   "outputs": [
    {
     "data": {
      "text/html": [
       "<div>\n",
       "<style scoped>\n",
       "    .dataframe tbody tr th:only-of-type {\n",
       "        vertical-align: middle;\n",
       "    }\n",
       "\n",
       "    .dataframe tbody tr th {\n",
       "        vertical-align: top;\n",
       "    }\n",
       "\n",
       "    .dataframe thead th {\n",
       "        text-align: right;\n",
       "    }\n",
       "</style>\n",
       "<table border=\"1\" class=\"dataframe\">\n",
       "  <thead>\n",
       "    <tr style=\"text-align: right;\">\n",
       "      <th></th>\n",
       "      <th>year</th>\n",
       "      <th>count</th>\n",
       "    </tr>\n",
       "  </thead>\n",
       "  <tbody>\n",
       "    <tr>\n",
       "      <th>79</th>\n",
       "      <td>1984</td>\n",
       "      <td>211</td>\n",
       "    </tr>\n",
       "    <tr>\n",
       "      <th>37</th>\n",
       "      <td>1942</td>\n",
       "      <td>36</td>\n",
       "    </tr>\n",
       "    <tr>\n",
       "      <th>15</th>\n",
       "      <td>1920</td>\n",
       "      <td>5</td>\n",
       "    </tr>\n",
       "    <tr>\n",
       "      <th>26</th>\n",
       "      <td>1931</td>\n",
       "      <td>24</td>\n",
       "    </tr>\n",
       "    <tr>\n",
       "      <th>66</th>\n",
       "      <td>1971</td>\n",
       "      <td>116</td>\n",
       "    </tr>\n",
       "  </tbody>\n",
       "</table>\n",
       "</div>"
      ],
      "text/plain": [
       "    year  count\n",
       "79  1984    211\n",
       "37  1942     36\n",
       "15  1920      5\n",
       "26  1931     24\n",
       "66  1971    116"
      ]
     },
     "execution_count": 54,
     "metadata": {},
     "output_type": "execute_result"
    }
   ],
   "source": [
    "df_grouped2.sample(5)"
   ]
  },
  {
   "cell_type": "code",
   "execution_count": 55,
   "id": "573fa40e-e4b3-4591-9070-5fba3a2e9557",
   "metadata": {},
   "outputs": [
    {
     "data": {
      "text/html": [
       "<div>\n",
       "<style scoped>\n",
       "    .dataframe tbody tr th:only-of-type {\n",
       "        vertical-align: middle;\n",
       "    }\n",
       "\n",
       "    .dataframe tbody tr th {\n",
       "        vertical-align: top;\n",
       "    }\n",
       "\n",
       "    .dataframe thead th {\n",
       "        text-align: right;\n",
       "    }\n",
       "</style>\n",
       "<table border=\"1\" class=\"dataframe\">\n",
       "  <thead>\n",
       "    <tr style=\"text-align: right;\">\n",
       "      <th></th>\n",
       "      <th>year</th>\n",
       "      <th>count</th>\n",
       "    </tr>\n",
       "  </thead>\n",
       "  <tbody>\n",
       "    <tr>\n",
       "      <th>0</th>\n",
       "      <td>1891</td>\n",
       "      <td>1</td>\n",
       "    </tr>\n",
       "    <tr>\n",
       "      <th>1</th>\n",
       "      <td>1893</td>\n",
       "      <td>1</td>\n",
       "    </tr>\n",
       "    <tr>\n",
       "      <th>2</th>\n",
       "      <td>1894</td>\n",
       "      <td>1</td>\n",
       "    </tr>\n",
       "    <tr>\n",
       "      <th>3</th>\n",
       "      <td>1896</td>\n",
       "      <td>2</td>\n",
       "    </tr>\n",
       "    <tr>\n",
       "      <th>4</th>\n",
       "      <td>1903</td>\n",
       "      <td>1</td>\n",
       "    </tr>\n",
       "    <tr>\n",
       "      <th>...</th>\n",
       "      <td>...</td>\n",
       "      <td>...</td>\n",
       "    </tr>\n",
       "    <tr>\n",
       "      <th>107</th>\n",
       "      <td>2012</td>\n",
       "      <td>1112</td>\n",
       "    </tr>\n",
       "    <tr>\n",
       "      <th>108</th>\n",
       "      <td>2013</td>\n",
       "      <td>1220</td>\n",
       "    </tr>\n",
       "    <tr>\n",
       "      <th>109</th>\n",
       "      <td>2014</td>\n",
       "      <td>1149</td>\n",
       "    </tr>\n",
       "    <tr>\n",
       "      <th>110</th>\n",
       "      <td>2015</td>\n",
       "      <td>485</td>\n",
       "    </tr>\n",
       "    <tr>\n",
       "      <th>111</th>\n",
       "      <td>2016</td>\n",
       "      <td>1</td>\n",
       "    </tr>\n",
       "  </tbody>\n",
       "</table>\n",
       "<p>112 rows × 2 columns</p>\n",
       "</div>"
      ],
      "text/plain": [
       "     year  count\n",
       "0    1891      1\n",
       "1    1893      1\n",
       "2    1894      1\n",
       "3    1896      2\n",
       "4    1903      1\n",
       "..    ...    ...\n",
       "107  2012   1112\n",
       "108  2013   1220\n",
       "109  2014   1149\n",
       "110  2015    485\n",
       "111  2016      1\n",
       "\n",
       "[112 rows x 2 columns]"
      ]
     },
     "execution_count": 55,
     "metadata": {},
     "output_type": "execute_result"
    }
   ],
   "source": [
    "df_grouped2"
   ]
  },
  {
   "cell_type": "code",
   "execution_count": 56,
   "id": "9c30ce64-75e2-4f2e-b056-9e5e8018d182",
   "metadata": {},
   "outputs": [
    {
     "data": {
      "text/plain": [
       "(112, 2)"
      ]
     },
     "execution_count": 56,
     "metadata": {},
     "output_type": "execute_result"
    }
   ],
   "source": [
    "df_grouped2.shape"
   ]
  },
  {
   "cell_type": "code",
   "execution_count": 57,
   "id": "b639868d-c064-4d46-b03f-a4c9b6a4c9c9",
   "metadata": {},
   "outputs": [
    {
     "data": {
      "text/plain": [
       "title    object\n",
       "year      int32\n",
       "count     int64\n",
       "dtype: object"
      ]
     },
     "execution_count": 57,
     "metadata": {},
     "output_type": "execute_result"
    }
   ],
   "source": [
    "df2.dtypes"
   ]
  },
  {
   "cell_type": "markdown",
   "id": "92009cf9-ae8f-4c95-92ab-616a74109a8b",
   "metadata": {},
   "source": [
    "### Loading data"
   ]
  },
  {
   "cell_type": "code",
   "execution_count": 58,
   "id": "f31bbcac-6a15-4f4b-8e7d-c69e8b0cf75e",
   "metadata": {},
   "outputs": [],
   "source": [
    "# Creating the job config\n",
    "job_config2 = bigquery.LoadJobConfig(\n",
    "    schema = [\n",
    "        # Supported datatypes: https://cloud.google.com/bigquery/docs/reference/standard-sql/data-types\n",
    "        bigquery.SchemaField(\"year\", bigquery.enums.SqlTypeNames.INT64),\n",
    "        bigquery.SchemaField(\"count\", bigquery.enums.SqlTypeNames.INT64)\n",
    "    ],\n",
    "    # Drod and re-create table, if exist\n",
    "    write_disposition = \"WRITE_TRUNCATE\",\n",
    ")"
   ]
  },
  {
   "cell_type": "code",
   "execution_count": 59,
   "id": "bf618782-6f9a-491d-a4eb-0071a7022754",
   "metadata": {},
   "outputs": [],
   "source": [
    "BQ_TABLE_NAME = \"dataprep.mflix_movies_per_year_onc\""
   ]
  },
  {
   "cell_type": "code",
   "execution_count": 60,
   "id": "3236b623-2a2c-4ce7-8d65-8575145a12cd",
   "metadata": {},
   "outputs": [
    {
     "data": {
      "text/plain": [
       "LoadJob<project=javeriana-dataprep, location=us-central1, id=c00563c3-cfa7-4abb-86f7-49b4f294040c>"
      ]
     },
     "execution_count": 60,
     "metadata": {},
     "output_type": "execute_result"
    }
   ],
   "source": [
    "# Sending the job to BigQuery\n",
    "job = client.load_table_from_dataframe(\n",
    "    df_grouped2, BQ_TABLE_NAME, job_config = job_config2\n",
    ")\n",
    "\n",
    "job.result()"
   ]
  },
  {
   "cell_type": "code",
   "execution_count": 61,
   "id": "098e34e2-a101-4f9a-9465-cac944f3d154",
   "metadata": {},
   "outputs": [],
   "source": [
    "query2 = \"\"\"SELECT * FROM `javeriana-dataprep.dataprep.mflix_movies_per_year_onc`\"\"\""
   ]
  },
  {
   "cell_type": "code",
   "execution_count": 62,
   "id": "801f2cbb-0faa-49c2-a2ff-230b1284d652",
   "metadata": {},
   "outputs": [],
   "source": [
    "df_mov_year=pd.read_gbq(query2, credentials = credentials)"
   ]
  },
  {
   "cell_type": "code",
   "execution_count": 63,
   "id": "9fc896a6-9020-4224-b8c1-94e2356d4e54",
   "metadata": {},
   "outputs": [
    {
     "data": {
      "text/plain": [
       "(112, 2)"
      ]
     },
     "execution_count": 63,
     "metadata": {},
     "output_type": "execute_result"
    }
   ],
   "source": [
    "df_mov_year.shape"
   ]
  },
  {
   "cell_type": "code",
   "execution_count": 64,
   "id": "a070b230-9e6e-4d5e-a271-5f5ef0d45ef7",
   "metadata": {},
   "outputs": [],
   "source": [
    "#Dado que se tienen 112 diferentes años de peliculas se decide graficar para aquellos años despues del año 2000\n",
    "df_mov_year_2000 = df_mov_year[df_mov_year[\"year\"] > 2000]"
   ]
  },
  {
   "cell_type": "code",
   "execution_count": 65,
   "id": "5371179a-42aa-4a23-87b2-5d675866e6e8",
   "metadata": {},
   "outputs": [
    {
     "data": {
      "text/html": [
       "<div>\n",
       "<style scoped>\n",
       "    .dataframe tbody tr th:only-of-type {\n",
       "        vertical-align: middle;\n",
       "    }\n",
       "\n",
       "    .dataframe tbody tr th {\n",
       "        vertical-align: top;\n",
       "    }\n",
       "\n",
       "    .dataframe thead th {\n",
       "        text-align: right;\n",
       "    }\n",
       "</style>\n",
       "<table border=\"1\" class=\"dataframe\">\n",
       "  <thead>\n",
       "    <tr style=\"text-align: right;\">\n",
       "      <th></th>\n",
       "      <th>year</th>\n",
       "      <th>count</th>\n",
       "    </tr>\n",
       "  </thead>\n",
       "  <tbody>\n",
       "    <tr>\n",
       "      <th>7</th>\n",
       "      <td>2016</td>\n",
       "      <td>1</td>\n",
       "    </tr>\n",
       "    <tr>\n",
       "      <th>27</th>\n",
       "      <td>2011</td>\n",
       "      <td>1042</td>\n",
       "    </tr>\n",
       "    <tr>\n",
       "      <th>58</th>\n",
       "      <td>2006</td>\n",
       "      <td>848</td>\n",
       "    </tr>\n",
       "    <tr>\n",
       "      <th>61</th>\n",
       "      <td>2012</td>\n",
       "      <td>1112</td>\n",
       "    </tr>\n",
       "    <tr>\n",
       "      <th>70</th>\n",
       "      <td>2007</td>\n",
       "      <td>874</td>\n",
       "    </tr>\n",
       "    <tr>\n",
       "      <th>81</th>\n",
       "      <td>2014</td>\n",
       "      <td>1149</td>\n",
       "    </tr>\n",
       "    <tr>\n",
       "      <th>86</th>\n",
       "      <td>2001</td>\n",
       "      <td>645</td>\n",
       "    </tr>\n",
       "    <tr>\n",
       "      <th>90</th>\n",
       "      <td>2002</td>\n",
       "      <td>656</td>\n",
       "    </tr>\n",
       "    <tr>\n",
       "      <th>91</th>\n",
       "      <td>2003</td>\n",
       "      <td>657</td>\n",
       "    </tr>\n",
       "    <tr>\n",
       "      <th>97</th>\n",
       "      <td>2013</td>\n",
       "      <td>1220</td>\n",
       "    </tr>\n",
       "    <tr>\n",
       "      <th>98</th>\n",
       "      <td>2008</td>\n",
       "      <td>969</td>\n",
       "    </tr>\n",
       "    <tr>\n",
       "      <th>101</th>\n",
       "      <td>2010</td>\n",
       "      <td>974</td>\n",
       "    </tr>\n",
       "    <tr>\n",
       "      <th>104</th>\n",
       "      <td>2009</td>\n",
       "      <td>992</td>\n",
       "    </tr>\n",
       "    <tr>\n",
       "      <th>105</th>\n",
       "      <td>2015</td>\n",
       "      <td>485</td>\n",
       "    </tr>\n",
       "    <tr>\n",
       "      <th>106</th>\n",
       "      <td>2004</td>\n",
       "      <td>741</td>\n",
       "    </tr>\n",
       "    <tr>\n",
       "      <th>110</th>\n",
       "      <td>2005</td>\n",
       "      <td>760</td>\n",
       "    </tr>\n",
       "  </tbody>\n",
       "</table>\n",
       "</div>"
      ],
      "text/plain": [
       "     year  count\n",
       "7    2016      1\n",
       "27   2011   1042\n",
       "58   2006    848\n",
       "61   2012   1112\n",
       "70   2007    874\n",
       "81   2014   1149\n",
       "86   2001    645\n",
       "90   2002    656\n",
       "91   2003    657\n",
       "97   2013   1220\n",
       "98   2008    969\n",
       "101  2010    974\n",
       "104  2009    992\n",
       "105  2015    485\n",
       "106  2004    741\n",
       "110  2005    760"
      ]
     },
     "execution_count": 65,
     "metadata": {},
     "output_type": "execute_result"
    }
   ],
   "source": [
    "df_mov_year_2000"
   ]
  },
  {
   "cell_type": "code",
   "execution_count": 66,
   "id": "dd62d783-9124-4703-8f05-b544f6d9cfc0",
   "metadata": {},
   "outputs": [
    {
     "data": {
      "text/plain": [
       "<AxesSubplot:title={'center':'Movies per Year after 2000'}, xlabel='year', ylabel='count'>"
      ]
     },
     "execution_count": 66,
     "metadata": {},
     "output_type": "execute_result"
    },
    {
     "data": {
      "image/png": "[encoded data removed]",
      "text/plain": [
       "<Figure size 1080x576 with 1 Axes>"
      ]
     },
     "metadata": {
      "needs_background": "light"
     },
     "output_type": "display_data"
    }
   ],
   "source": [
    "#\n",
    "fig, ax = plt.subplots(figsize=(15, 8))\n",
    "plt.title(\"Movies per Year after 2000\")\n",
    "sns.barplot(ax = ax, data = df_mov_year_2000, x='year', y='count', color = 'orange')"
   ]
  },
  {
   "cell_type": "markdown",
   "id": "b6f99a16-622f-4f0b-a52a-ebb1accf4c4a",
   "metadata": {},
   "source": [
    "### Pregunta 3\n",
    "¿Cual es el tiempo promedio de duración de cada uno de los generos?"
   ]
  },
  {
   "cell_type": "markdown",
   "id": "996ce7bf-37d7-4b83-ac3e-7fa02fe80866",
   "metadata": {},
   "source": [
    "### Extracting data"
   ]
  },
  {
   "cell_type": "code",
   "execution_count": 67,
   "id": "a1546e6f-ec5f-408a-9c50-21fa1953b090",
   "metadata": {},
   "outputs": [],
   "source": [
    "#Consulta a base de datos MongoDB\n",
    "# Con :0 al campo se le indica a Mongo que NO debe traer la columna\n",
    "# Con :1 al campo se le indica a Mongo que debe traer la columna\n",
    "result3 = col.find({}, {\"_id\": 0, \"genres\":1 , \"runtime\":1, \"title\":1})"
   ]
  },
  {
   "cell_type": "code",
   "execution_count": 68,
   "id": "e0ba628e-47ec-4210-bf16-5768cbb9fee2",
   "metadata": {},
   "outputs": [],
   "source": [
    "df3 = pd.json_normalize(result3)"
   ]
  },
  {
   "cell_type": "code",
   "execution_count": 69,
   "id": "2717497a-5562-44f8-bd58-d87f922f476d",
   "metadata": {},
   "outputs": [
    {
     "data": {
      "text/plain": [
       "(23530, 3)"
      ]
     },
     "execution_count": 69,
     "metadata": {},
     "output_type": "execute_result"
    }
   ],
   "source": [
    "df3.shape"
   ]
  },
  {
   "cell_type": "code",
   "execution_count": 70,
   "id": "4c5e68dd-46c2-406c-ad96-932809efa32f",
   "metadata": {},
   "outputs": [
    {
     "data": {
      "text/plain": [
       "genres      object\n",
       "runtime    float64\n",
       "title       object\n",
       "dtype: object"
      ]
     },
     "execution_count": 70,
     "metadata": {},
     "output_type": "execute_result"
    }
   ],
   "source": [
    "df3.dtypes"
   ]
  },
  {
   "cell_type": "code",
   "execution_count": 71,
   "id": "4e37c60f-4955-49e0-9672-5ad7c88f5169",
   "metadata": {},
   "outputs": [
    {
     "data": {
      "text/html": [
       "<div>\n",
       "<style scoped>\n",
       "    .dataframe tbody tr th:only-of-type {\n",
       "        vertical-align: middle;\n",
       "    }\n",
       "\n",
       "    .dataframe tbody tr th {\n",
       "        vertical-align: top;\n",
       "    }\n",
       "\n",
       "    .dataframe thead th {\n",
       "        text-align: right;\n",
       "    }\n",
       "</style>\n",
       "<table border=\"1\" class=\"dataframe\">\n",
       "  <thead>\n",
       "    <tr style=\"text-align: right;\">\n",
       "      <th></th>\n",
       "      <th>genres</th>\n",
       "      <th>runtime</th>\n",
       "      <th>title</th>\n",
       "    </tr>\n",
       "  </thead>\n",
       "  <tbody>\n",
       "    <tr>\n",
       "      <th>5810</th>\n",
       "      <td>[Biography, Drama]</td>\n",
       "      <td>115.0</td>\n",
       "      <td>Korczak</td>\n",
       "    </tr>\n",
       "    <tr>\n",
       "      <th>14044</th>\n",
       "      <td>[Crime, Horror, Thriller]</td>\n",
       "      <td>105.0</td>\n",
       "      <td>Borderland</td>\n",
       "    </tr>\n",
       "    <tr>\n",
       "      <th>17592</th>\n",
       "      <td>[Documentary, Music]</td>\n",
       "      <td>105.0</td>\n",
       "      <td>Don't Stop Believin': Everyman's Journey</td>\n",
       "    </tr>\n",
       "    <tr>\n",
       "      <th>23139</th>\n",
       "      <td>[Action, Crime, Thriller]</td>\n",
       "      <td>111.0</td>\n",
       "      <td>A Hard Day</td>\n",
       "    </tr>\n",
       "    <tr>\n",
       "      <th>17994</th>\n",
       "      <td>[Drama, Romance]</td>\n",
       "      <td>122.0</td>\n",
       "      <td>I Give My First Love to You</td>\n",
       "    </tr>\n",
       "  </tbody>\n",
       "</table>\n",
       "</div>"
      ],
      "text/plain": [
       "                          genres  runtime  \\\n",
       "5810          [Biography, Drama]    115.0   \n",
       "14044  [Crime, Horror, Thriller]    105.0   \n",
       "17592       [Documentary, Music]    105.0   \n",
       "23139  [Action, Crime, Thriller]    111.0   \n",
       "17994           [Drama, Romance]    122.0   \n",
       "\n",
       "                                          title  \n",
       "5810                                    Korczak  \n",
       "14044                                Borderland  \n",
       "17592  Don't Stop Believin': Everyman's Journey  \n",
       "23139                                A Hard Day  \n",
       "17994               I Give My First Love to You  "
      ]
     },
     "execution_count": 71,
     "metadata": {},
     "output_type": "execute_result"
    }
   ],
   "source": [
    "df3.sample(5)"
   ]
  },
  {
   "cell_type": "code",
   "execution_count": 72,
   "id": "a1c27abc-a20d-4be2-aaba-797f031d56ac",
   "metadata": {},
   "outputs": [],
   "source": [
    "#Abrir las listas de los generos y dejar solamente un genero por fila\n",
    "res_3 = df3.explode(\"genres\")"
   ]
  },
  {
   "cell_type": "code",
   "execution_count": 73,
   "id": "dfec324e-9068-4f06-9b92-a6b81093d127",
   "metadata": {},
   "outputs": [
    {
     "name": "stdout",
     "output_type": "stream",
     "text": [
      "<class 'pandas.core.frame.DataFrame'>\n",
      "Int64Index: 49876 entries, 0 to 23529\n",
      "Data columns (total 3 columns):\n",
      " #   Column   Non-Null Count  Dtype  \n",
      "---  ------   --------------  -----  \n",
      " 0   genres   49760 non-null  object \n",
      " 1   runtime  49126 non-null  float64\n",
      " 2   title    49876 non-null  object \n",
      "dtypes: float64(1), object(2)\n",
      "memory usage: 1.5+ MB\n"
     ]
    }
   ],
   "source": [
    "res_3.info()"
   ]
  },
  {
   "cell_type": "markdown",
   "id": "0958cb0a-a3c2-4e05-a22b-8163d56c0976",
   "metadata": {},
   "source": [
    "### Exploring and cleaning data"
   ]
  },
  {
   "cell_type": "code",
   "execution_count": 74,
   "id": "8ace48fc-b398-4a90-b8ee-c0545931a10d",
   "metadata": {},
   "outputs": [
    {
     "data": {
      "text/plain": [
       "genres     116\n",
       "runtime    750\n",
       "title        0\n",
       "dtype: int64"
      ]
     },
     "execution_count": 74,
     "metadata": {},
     "output_type": "execute_result"
    }
   ],
   "source": [
    "#Checkeo de valores nulos\n",
    "res_3.isnull().sum()"
   ]
  },
  {
   "cell_type": "code",
   "execution_count": 75,
   "id": "227fff57-9826-44a5-bc42-2e83beebcf43",
   "metadata": {},
   "outputs": [],
   "source": [
    "#Creando variables donde solamente se tengan netamente los valores nulos de cada una de estas columnas. \n",
    "gen_null = pd.isnull(res_3[\"genres\"])\n",
    "rt_null = pd.isnull(res_3[\"runtime\"])"
   ]
  },
  {
   "cell_type": "code",
   "execution_count": 76,
   "id": "c64118c5-ccf7-441e-be62-70c803f37c0c",
   "metadata": {},
   "outputs": [
    {
     "data": {
      "text/html": [
       "<div>\n",
       "<style scoped>\n",
       "    .dataframe tbody tr th:only-of-type {\n",
       "        vertical-align: middle;\n",
       "    }\n",
       "\n",
       "    .dataframe tbody tr th {\n",
       "        vertical-align: top;\n",
       "    }\n",
       "\n",
       "    .dataframe thead th {\n",
       "        text-align: right;\n",
       "    }\n",
       "</style>\n",
       "<table border=\"1\" class=\"dataframe\">\n",
       "  <thead>\n",
       "    <tr style=\"text-align: right;\">\n",
       "      <th></th>\n",
       "      <th>genres</th>\n",
       "      <th>runtime</th>\n",
       "      <th>title</th>\n",
       "    </tr>\n",
       "  </thead>\n",
       "  <tbody>\n",
       "    <tr>\n",
       "      <th>802</th>\n",
       "      <td>Comedy</td>\n",
       "      <td>NaN</td>\n",
       "      <td>Mi adorado Juan</td>\n",
       "    </tr>\n",
       "    <tr>\n",
       "      <th>1881</th>\n",
       "      <td>Drama</td>\n",
       "      <td>NaN</td>\n",
       "      <td>Il fornaretto di Venezia</td>\n",
       "    </tr>\n",
       "    <tr>\n",
       "      <th>2402</th>\n",
       "      <td>Comedy</td>\n",
       "      <td>NaN</td>\n",
       "      <td>La pecora nera</td>\n",
       "    </tr>\n",
       "    <tr>\n",
       "      <th>2406</th>\n",
       "      <td>Drama</td>\n",
       "      <td>NaN</td>\n",
       "      <td>The Protagonists</td>\n",
       "    </tr>\n",
       "    <tr>\n",
       "      <th>2610</th>\n",
       "      <td>Drama</td>\n",
       "      <td>NaN</td>\n",
       "      <td>Al-ikhtiyar</td>\n",
       "    </tr>\n",
       "    <tr>\n",
       "      <th>...</th>\n",
       "      <td>...</td>\n",
       "      <td>...</td>\n",
       "      <td>...</td>\n",
       "    </tr>\n",
       "    <tr>\n",
       "      <th>23495</th>\n",
       "      <td>Thriller</td>\n",
       "      <td>NaN</td>\n",
       "      <td>Un monstruo de mil cabezas</td>\n",
       "    </tr>\n",
       "    <tr>\n",
       "      <th>23497</th>\n",
       "      <td>Drama</td>\n",
       "      <td>NaN</td>\n",
       "      <td>Techo y comida</td>\n",
       "    </tr>\n",
       "    <tr>\n",
       "      <th>23508</th>\n",
       "      <td>Comedy</td>\n",
       "      <td>NaN</td>\n",
       "      <td>Se Dio vuole</td>\n",
       "    </tr>\n",
       "    <tr>\n",
       "      <th>23517</th>\n",
       "      <td>Animation</td>\n",
       "      <td>NaN</td>\n",
       "      <td>The Magic Mountain</td>\n",
       "    </tr>\n",
       "    <tr>\n",
       "      <th>23517</th>\n",
       "      <td>Drama</td>\n",
       "      <td>NaN</td>\n",
       "      <td>The Magic Mountain</td>\n",
       "    </tr>\n",
       "  </tbody>\n",
       "</table>\n",
       "<p>750 rows × 3 columns</p>\n",
       "</div>"
      ],
      "text/plain": [
       "          genres  runtime                       title\n",
       "802       Comedy      NaN             Mi adorado Juan\n",
       "1881       Drama      NaN    Il fornaretto di Venezia\n",
       "2402      Comedy      NaN              La pecora nera\n",
       "2406       Drama      NaN            The Protagonists\n",
       "2610       Drama      NaN                 Al-ikhtiyar\n",
       "...          ...      ...                         ...\n",
       "23495   Thriller      NaN  Un monstruo de mil cabezas\n",
       "23497      Drama      NaN              Techo y comida\n",
       "23508     Comedy      NaN                Se Dio vuole\n",
       "23517  Animation      NaN          The Magic Mountain\n",
       "23517      Drama      NaN          The Magic Mountain\n",
       "\n",
       "[750 rows x 3 columns]"
      ]
     },
     "execution_count": 76,
     "metadata": {},
     "output_type": "execute_result"
    }
   ],
   "source": [
    "res_3[rt_null]"
   ]
  },
  {
   "cell_type": "code",
   "execution_count": 77,
   "id": "15c4d4d7-4c48-4f9d-87bd-d2156fb5d512",
   "metadata": {},
   "outputs": [],
   "source": [
    "#Reemplazando valores vacios en columna genres con no especificado\n",
    "res_3[\"genres\"].fillna(\"Not specified\", inplace= True)"
   ]
  },
  {
   "cell_type": "code",
   "execution_count": 78,
   "id": "3f97bc2e-c3a3-4977-9c94-f90423a4a360",
   "metadata": {},
   "outputs": [],
   "source": [
    "#Reemplazando valores vacios en columna run time con 0\n",
    "res_3[\"runtime\"].fillna(0, inplace= True)"
   ]
  },
  {
   "cell_type": "code",
   "execution_count": 79,
   "id": "c2737454-6ced-4805-a451-18c214f70f8d",
   "metadata": {},
   "outputs": [
    {
     "name": "stdout",
     "output_type": "stream",
     "text": [
      "<class 'pandas.core.frame.DataFrame'>\n",
      "Int64Index: 49876 entries, 0 to 23529\n",
      "Data columns (total 3 columns):\n",
      " #   Column   Non-Null Count  Dtype  \n",
      "---  ------   --------------  -----  \n",
      " 0   genres   49876 non-null  object \n",
      " 1   runtime  49876 non-null  float64\n",
      " 2   title    49876 non-null  object \n",
      "dtypes: float64(1), object(2)\n",
      "memory usage: 1.5+ MB\n"
     ]
    }
   ],
   "source": [
    "res_3.info()"
   ]
  },
  {
   "cell_type": "markdown",
   "id": "1eacecc8-5274-4151-bc1e-d75c37fad510",
   "metadata": {},
   "source": [
    "### Transforming data"
   ]
  },
  {
   "cell_type": "code",
   "execution_count": 80,
   "id": "2ba5e7e7-fdad-471f-8c20-1b2c9b7bc33f",
   "metadata": {},
   "outputs": [],
   "source": [
    "#Agrupando por generos y sacando la media de cada uno de ellos. \n",
    "df_mov_rt = res_3.groupby(by = [\"genres\"]).mean().round(2)"
   ]
  },
  {
   "cell_type": "markdown",
   "id": "b66ec18e-1d25-477b-b444-d26757ed8ba7",
   "metadata": {},
   "source": [
    "### Loading data"
   ]
  },
  {
   "cell_type": "code",
   "execution_count": 81,
   "id": "000b2178-36b1-4322-bdb9-bbe8c17b9b40",
   "metadata": {},
   "outputs": [],
   "source": [
    "# Creating the job config\n",
    "job_config3 = bigquery.LoadJobConfig(\n",
    "    schema = [\n",
    "        # Supported datatypes: https://cloud.google.com/bigquery/docs/reference/standard-sql/data-types\n",
    "        bigquery.SchemaField(\"genres\", bigquery.enums.SqlTypeNames.STRING),\n",
    "        bigquery.SchemaField(\"runtime\", bigquery.enums.SqlTypeNames.FLOAT),\n",
    "    ],\n",
    "    # Drod and re-create table, if exist\n",
    "    write_disposition = \"WRITE_TRUNCATE\",\n",
    ")"
   ]
  },
  {
   "cell_type": "code",
   "execution_count": 82,
   "id": "4e7e036f-339f-4dd6-aee8-e7c2e43edcfd",
   "metadata": {},
   "outputs": [],
   "source": [
    "BQ_TABLE_NAME3 = \"dataprep.mflix_runtime_genres_ONC\""
   ]
  },
  {
   "cell_type": "code",
   "execution_count": 83,
   "id": "2fbed682-41b8-4683-8c51-ef450b9e8956",
   "metadata": {},
   "outputs": [
    {
     "data": {
      "text/plain": [
       "LoadJob<project=javeriana-dataprep, location=us-central1, id=10d937b0-8045-4c49-aa41-782d9fceea5e>"
      ]
     },
     "execution_count": 83,
     "metadata": {},
     "output_type": "execute_result"
    }
   ],
   "source": [
    "# Sending the job to BigQuery\n",
    "job = client.load_table_from_dataframe(\n",
    "    df_mov_rt, BQ_TABLE_NAME3, job_config = job_config3\n",
    ")\n",
    "\n",
    "job.result()"
   ]
  },
  {
   "cell_type": "code",
   "execution_count": 84,
   "id": "ab1a9d95-eb5a-4f14-8d32-dea82b35b397",
   "metadata": {},
   "outputs": [
    {
     "name": "stdout",
     "output_type": "stream",
     "text": [
      "Loaded 26 rows and 2 columns to dataprep.mflix_runtime_genres_ONC\n"
     ]
    }
   ],
   "source": [
    "# Verifying if table was successfully created or updated\n",
    "table = client.get_table(BQ_TABLE_NAME3)\n",
    "\n",
    "print(\"Loaded {} rows and {} columns to {}\".format(table.num_rows, len(table.schema), BQ_TABLE_NAME3))"
   ]
  },
  {
   "cell_type": "code",
   "execution_count": 85,
   "id": "e5b100e5-d3b6-4d0c-8d08-b6564d640971",
   "metadata": {},
   "outputs": [],
   "source": [
    "query3 = \"\"\"SELECT * FROM `javeriana-dataprep.dataprep.mflix_runtime_genres_ONC`\"\"\""
   ]
  },
  {
   "cell_type": "code",
   "execution_count": 86,
   "id": "16185cae-a8d6-458d-8476-5d0a3eea6bcd",
   "metadata": {},
   "outputs": [],
   "source": [
    "df3 = pd.read_gbq(query3, credentials = credentials)"
   ]
  },
  {
   "cell_type": "code",
   "execution_count": 87,
   "id": "9a3cf5e6-2c38-42a3-8260-cf0da2331b97",
   "metadata": {},
   "outputs": [
    {
     "data": {
      "image/png": "[encoded data removed]",
      "text/plain": [
       "<Figure size 432x288 with 1 Axes>"
      ]
     },
     "metadata": {
      "needs_background": "light"
     },
     "output_type": "display_data"
    }
   ],
   "source": [
    "plt.bar(df3[\"genres\"], df3[\"runtime\"], color ='red',\n",
    "        width = 0.4)\n",
    "\n",
    "plt.xlabel(\"Genres\")\n",
    "plt.ylabel(\"Runtime\")\n",
    "plt.title(\"Average Runtime per Genres\")\n",
    "plt.xticks(rotation=90)\n",
    "plt.show()"
   ]
  }
 ],
 "metadata": {
  "kernelspec": {
   "display_name": "Python 3 (ipykernel)",
   "language": "python",
   "name": "python3"
  },
  "language_info": {
   "codemirror_mode": {
    "name": "ipython",
    "version": 3
   },
   "file_extension": ".py",
   "mimetype": "text/x-python",
   "name": "python",
   "nbconvert_exporter": "python",
   "pygments_lexer": "ipython3",
   "version": "3.9.7"
  }
 },
 "nbformat": 4,
 "nbformat_minor": 5
}
